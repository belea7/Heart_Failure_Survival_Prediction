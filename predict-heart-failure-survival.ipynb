{
 "cells": [
  {
   "cell_type": "code",
   "execution_count": 1,
   "id": "9fa4eee1",
   "metadata": {
    "_kg_hide-input": true,
    "execution": {
     "iopub.execute_input": "2022-03-28T14:16:06.103213Z",
     "iopub.status.busy": "2022-03-28T14:16:06.101245Z",
     "iopub.status.idle": "2022-03-28T14:16:07.172374Z",
     "shell.execute_reply": "2022-03-28T14:16:07.171565Z",
     "shell.execute_reply.started": "2022-03-28T14:14:48.991045Z"
    },
    "papermill": {
     "duration": 1.136085,
     "end_time": "2022-03-28T14:16:07.172560",
     "exception": false,
     "start_time": "2022-03-28T14:16:06.036475",
     "status": "completed"
    },
    "tags": []
   },
   "outputs": [],
   "source": [
    "import warnings\n",
    "warnings.filterwarnings('ignore')\n",
    "import pandas as pd\n",
    "import numpy as np\n",
    "import seaborn as sns\n",
    "from matplotlib import pyplot as plt\n",
    "from scipy.stats import zscore"
   ]
  },
  {
   "cell_type": "markdown",
   "id": "6c080ce8",
   "metadata": {
    "papermill": {
     "duration": 0.057562,
     "end_time": "2022-03-28T14:16:07.290889",
     "exception": false,
     "start_time": "2022-03-28T14:16:07.233327",
     "status": "completed"
    },
    "tags": []
   },
   "source": [
    "# Preprocessing"
   ]
  },
  {
   "cell_type": "code",
   "execution_count": 2,
   "id": "8ff1bee2",
   "metadata": {
    "execution": {
     "iopub.execute_input": "2022-03-28T14:16:07.409931Z",
     "iopub.status.busy": "2022-03-28T14:16:07.408902Z",
     "iopub.status.idle": "2022-03-28T14:16:07.450970Z",
     "shell.execute_reply": "2022-03-28T14:16:07.451498Z",
     "shell.execute_reply.started": "2022-03-28T14:14:49.478431Z"
    },
    "papermill": {
     "duration": 0.104034,
     "end_time": "2022-03-28T14:16:07.451828",
     "exception": false,
     "start_time": "2022-03-28T14:16:07.347794",
     "status": "completed"
    },
    "tags": []
   },
   "outputs": [
    {
     "data": {
      "text/html": [
       "<div>\n",
       "<style scoped>\n",
       "    .dataframe tbody tr th:only-of-type {\n",
       "        vertical-align: middle;\n",
       "    }\n",
       "\n",
       "    .dataframe tbody tr th {\n",
       "        vertical-align: top;\n",
       "    }\n",
       "\n",
       "    .dataframe thead th {\n",
       "        text-align: right;\n",
       "    }\n",
       "</style>\n",
       "<table border=\"1\" class=\"dataframe\">\n",
       "  <thead>\n",
       "    <tr style=\"text-align: right;\">\n",
       "      <th></th>\n",
       "      <th>age</th>\n",
       "      <th>anaemia</th>\n",
       "      <th>creatinine_phosphokinase</th>\n",
       "      <th>diabetes</th>\n",
       "      <th>ejection_fraction</th>\n",
       "      <th>high_blood_pressure</th>\n",
       "      <th>platelets</th>\n",
       "      <th>serum_creatinine</th>\n",
       "      <th>serum_sodium</th>\n",
       "      <th>sex</th>\n",
       "      <th>smoking</th>\n",
       "      <th>time</th>\n",
       "      <th>DEATH_EVENT</th>\n",
       "    </tr>\n",
       "  </thead>\n",
       "  <tbody>\n",
       "    <tr>\n",
       "      <th>0</th>\n",
       "      <td>75.0</td>\n",
       "      <td>0</td>\n",
       "      <td>582</td>\n",
       "      <td>0</td>\n",
       "      <td>20</td>\n",
       "      <td>1</td>\n",
       "      <td>265000.00</td>\n",
       "      <td>1.9</td>\n",
       "      <td>130</td>\n",
       "      <td>1</td>\n",
       "      <td>0</td>\n",
       "      <td>4</td>\n",
       "      <td>1</td>\n",
       "    </tr>\n",
       "    <tr>\n",
       "      <th>1</th>\n",
       "      <td>55.0</td>\n",
       "      <td>0</td>\n",
       "      <td>7861</td>\n",
       "      <td>0</td>\n",
       "      <td>38</td>\n",
       "      <td>0</td>\n",
       "      <td>263358.03</td>\n",
       "      <td>1.1</td>\n",
       "      <td>136</td>\n",
       "      <td>1</td>\n",
       "      <td>0</td>\n",
       "      <td>6</td>\n",
       "      <td>1</td>\n",
       "    </tr>\n",
       "    <tr>\n",
       "      <th>2</th>\n",
       "      <td>65.0</td>\n",
       "      <td>0</td>\n",
       "      <td>146</td>\n",
       "      <td>0</td>\n",
       "      <td>20</td>\n",
       "      <td>0</td>\n",
       "      <td>162000.00</td>\n",
       "      <td>1.3</td>\n",
       "      <td>129</td>\n",
       "      <td>1</td>\n",
       "      <td>1</td>\n",
       "      <td>7</td>\n",
       "      <td>1</td>\n",
       "    </tr>\n",
       "    <tr>\n",
       "      <th>3</th>\n",
       "      <td>50.0</td>\n",
       "      <td>1</td>\n",
       "      <td>111</td>\n",
       "      <td>0</td>\n",
       "      <td>20</td>\n",
       "      <td>0</td>\n",
       "      <td>210000.00</td>\n",
       "      <td>1.9</td>\n",
       "      <td>137</td>\n",
       "      <td>1</td>\n",
       "      <td>0</td>\n",
       "      <td>7</td>\n",
       "      <td>1</td>\n",
       "    </tr>\n",
       "    <tr>\n",
       "      <th>4</th>\n",
       "      <td>65.0</td>\n",
       "      <td>1</td>\n",
       "      <td>160</td>\n",
       "      <td>1</td>\n",
       "      <td>20</td>\n",
       "      <td>0</td>\n",
       "      <td>327000.00</td>\n",
       "      <td>2.7</td>\n",
       "      <td>116</td>\n",
       "      <td>0</td>\n",
       "      <td>0</td>\n",
       "      <td>8</td>\n",
       "      <td>1</td>\n",
       "    </tr>\n",
       "  </tbody>\n",
       "</table>\n",
       "</div>"
      ],
      "text/plain": [
       "    age  anaemia  creatinine_phosphokinase  diabetes  ejection_fraction  \\\n",
       "0  75.0        0                       582         0                 20   \n",
       "1  55.0        0                      7861         0                 38   \n",
       "2  65.0        0                       146         0                 20   \n",
       "3  50.0        1                       111         0                 20   \n",
       "4  65.0        1                       160         1                 20   \n",
       "\n",
       "   high_blood_pressure  platelets  serum_creatinine  serum_sodium  sex  \\\n",
       "0                    1  265000.00               1.9           130    1   \n",
       "1                    0  263358.03               1.1           136    1   \n",
       "2                    0  162000.00               1.3           129    1   \n",
       "3                    0  210000.00               1.9           137    1   \n",
       "4                    0  327000.00               2.7           116    0   \n",
       "\n",
       "   smoking  time  DEATH_EVENT  \n",
       "0        0     4            1  \n",
       "1        0     6            1  \n",
       "2        1     7            1  \n",
       "3        0     7            1  \n",
       "4        0     8            1  "
      ]
     },
     "execution_count": 2,
     "metadata": {},
     "output_type": "execute_result"
    }
   ],
   "source": [
    "data = pd.read_csv(\"../input/heart-failure-clinical-data/heart_failure_clinical_records_dataset.csv\")\n",
    "data.head()"
   ]
  },
  {
   "cell_type": "markdown",
   "id": "3d8fa546",
   "metadata": {
    "papermill": {
     "duration": 0.061713,
     "end_time": "2022-03-28T14:16:07.572218",
     "exception": false,
     "start_time": "2022-03-28T14:16:07.510505",
     "status": "completed"
    },
    "tags": []
   },
   "source": [
    "## Handle missing values"
   ]
  },
  {
   "cell_type": "markdown",
   "id": "00755884",
   "metadata": {
    "papermill": {
     "duration": 0.056612,
     "end_time": "2022-03-28T14:16:07.686199",
     "exception": false,
     "start_time": "2022-03-28T14:16:07.629587",
     "status": "completed"
    },
    "tags": []
   },
   "source": [
    "Let's start by checking if there's any missing data:"
   ]
  },
  {
   "cell_type": "code",
   "execution_count": 3,
   "id": "1d4210f1",
   "metadata": {
    "execution": {
     "iopub.execute_input": "2022-03-28T14:16:07.810120Z",
     "iopub.status.busy": "2022-03-28T14:16:07.809403Z",
     "iopub.status.idle": "2022-03-28T14:16:07.816950Z",
     "shell.execute_reply": "2022-03-28T14:16:07.817574Z",
     "shell.execute_reply.started": "2022-03-28T14:14:49.508998Z"
    },
    "papermill": {
     "duration": 0.074509,
     "end_time": "2022-03-28T14:16:07.817771",
     "exception": false,
     "start_time": "2022-03-28T14:16:07.743262",
     "status": "completed"
    },
    "tags": []
   },
   "outputs": [
    {
     "data": {
      "text/plain": [
       "age                         0\n",
       "anaemia                     0\n",
       "creatinine_phosphokinase    0\n",
       "diabetes                    0\n",
       "ejection_fraction           0\n",
       "high_blood_pressure         0\n",
       "platelets                   0\n",
       "serum_creatinine            0\n",
       "serum_sodium                0\n",
       "sex                         0\n",
       "smoking                     0\n",
       "time                        0\n",
       "DEATH_EVENT                 0\n",
       "dtype: int64"
      ]
     },
     "execution_count": 3,
     "metadata": {},
     "output_type": "execute_result"
    }
   ],
   "source": [
    "data.isnull().sum()"
   ]
  },
  {
   "cell_type": "markdown",
   "id": "3eb388e5",
   "metadata": {
    "papermill": {
     "duration": 0.057511,
     "end_time": "2022-03-28T14:16:07.934148",
     "exception": false,
     "start_time": "2022-03-28T14:16:07.876637",
     "status": "completed"
    },
    "tags": []
   },
   "source": [
    "Seems like we have no missing values!"
   ]
  },
  {
   "cell_type": "markdown",
   "id": "16c3d87b",
   "metadata": {
    "papermill": {
     "duration": 0.058651,
     "end_time": "2022-03-28T14:16:08.050375",
     "exception": false,
     "start_time": "2022-03-28T14:16:07.991724",
     "status": "completed"
    },
    "tags": []
   },
   "source": [
    "## Change data types"
   ]
  },
  {
   "cell_type": "markdown",
   "id": "5bac2391",
   "metadata": {
    "papermill": {
     "duration": 0.057002,
     "end_time": "2022-03-28T14:16:08.165115",
     "exception": false,
     "start_time": "2022-03-28T14:16:08.108113",
     "status": "completed"
    },
    "tags": []
   },
   "source": [
    "Let's see the types of the columns and see if any conversions are needed:"
   ]
  },
  {
   "cell_type": "code",
   "execution_count": 4,
   "id": "855a1f3f",
   "metadata": {
    "execution": {
     "iopub.execute_input": "2022-03-28T14:16:08.284207Z",
     "iopub.status.busy": "2022-03-28T14:16:08.283504Z",
     "iopub.status.idle": "2022-03-28T14:16:08.290474Z",
     "shell.execute_reply": "2022-03-28T14:16:08.291010Z",
     "shell.execute_reply.started": "2022-03-28T14:14:49.521115Z"
    },
    "papermill": {
     "duration": 0.068624,
     "end_time": "2022-03-28T14:16:08.291200",
     "exception": false,
     "start_time": "2022-03-28T14:16:08.222576",
     "status": "completed"
    },
    "tags": []
   },
   "outputs": [
    {
     "data": {
      "text/plain": [
       "age                         float64\n",
       "anaemia                       int64\n",
       "creatinine_phosphokinase      int64\n",
       "diabetes                      int64\n",
       "ejection_fraction             int64\n",
       "high_blood_pressure           int64\n",
       "platelets                   float64\n",
       "serum_creatinine            float64\n",
       "serum_sodium                  int64\n",
       "sex                           int64\n",
       "smoking                       int64\n",
       "time                          int64\n",
       "DEATH_EVENT                   int64\n",
       "dtype: object"
      ]
     },
     "execution_count": 4,
     "metadata": {},
     "output_type": "execute_result"
    }
   ],
   "source": [
    "data.dtypes"
   ]
  },
  {
   "cell_type": "markdown",
   "id": "d9218db8",
   "metadata": {
    "papermill": {
     "duration": 0.058211,
     "end_time": "2022-03-28T14:16:08.408007",
     "exception": false,
     "start_time": "2022-03-28T14:16:08.349796",
     "status": "completed"
    },
    "tags": []
   },
   "source": [
    "Seems like we should consider converting \"age\" and \"platelets\" to integers."
   ]
  },
  {
   "cell_type": "markdown",
   "id": "925e15ea",
   "metadata": {
    "papermill": {
     "duration": 0.057982,
     "end_time": "2022-03-28T14:16:08.524367",
     "exception": false,
     "start_time": "2022-03-28T14:16:08.466385",
     "status": "completed"
    },
    "tags": []
   },
   "source": [
    "Let's strart by checking the values of \"age\" columns and see if we can convert it to integer:"
   ]
  },
  {
   "cell_type": "code",
   "execution_count": 5,
   "id": "4c7b8db7",
   "metadata": {
    "execution": {
     "iopub.execute_input": "2022-03-28T14:16:08.646332Z",
     "iopub.status.busy": "2022-03-28T14:16:08.645609Z",
     "iopub.status.idle": "2022-03-28T14:16:08.662709Z",
     "shell.execute_reply": "2022-03-28T14:16:08.661923Z",
     "shell.execute_reply.started": "2022-03-28T14:14:49.534147Z"
    },
    "papermill": {
     "duration": 0.079619,
     "end_time": "2022-03-28T14:16:08.662906",
     "exception": false,
     "start_time": "2022-03-28T14:16:08.583287",
     "status": "completed"
    },
    "tags": []
   },
   "outputs": [
    {
     "data": {
      "text/plain": [
       "array([75.   , 55.   , 65.   , 50.   , 90.   , 60.   , 80.   , 62.   ,\n",
       "       45.   , 49.   , 82.   , 87.   , 70.   , 48.   , 68.   , 53.   ,\n",
       "       95.   , 58.   , 94.   , 85.   , 69.   , 72.   , 51.   , 57.   ,\n",
       "       42.   , 41.   , 67.   , 79.   , 59.   , 44.   , 63.   , 86.   ,\n",
       "       66.   , 43.   , 46.   , 61.   , 81.   , 52.   , 64.   , 40.   ,\n",
       "       60.667, 73.   , 77.   , 78.   , 54.   , 47.   , 56.   ])"
      ]
     },
     "execution_count": 5,
     "metadata": {},
     "output_type": "execute_result"
    }
   ],
   "source": [
    "data.age.unique()"
   ]
  },
  {
   "cell_type": "markdown",
   "id": "242fa957",
   "metadata": {
    "papermill": {
     "duration": 0.06028,
     "end_time": "2022-03-28T14:16:08.782334",
     "exception": false,
     "start_time": "2022-03-28T14:16:08.722054",
     "status": "completed"
    },
    "tags": []
   },
   "source": [
    "Seems like only one value in the dataset is an actual float vlue - let's converting this column to integer whould be a good choice:"
   ]
  },
  {
   "cell_type": "code",
   "execution_count": 6,
   "id": "fb409f3b",
   "metadata": {
    "execution": {
     "iopub.execute_input": "2022-03-28T14:16:08.913544Z",
     "iopub.status.busy": "2022-03-28T14:16:08.912574Z",
     "iopub.status.idle": "2022-03-28T14:16:08.916148Z",
     "shell.execute_reply": "2022-03-28T14:16:08.916701Z",
     "shell.execute_reply.started": "2022-03-28T14:14:49.552332Z"
    },
    "papermill": {
     "duration": 0.073752,
     "end_time": "2022-03-28T14:16:08.916892",
     "exception": false,
     "start_time": "2022-03-28T14:16:08.843140",
     "status": "completed"
    },
    "tags": []
   },
   "outputs": [
    {
     "data": {
      "text/plain": [
       "array([75, 55, 65, 50, 90, 60, 80, 62, 45, 49, 82, 87, 70, 48, 68, 53, 95,\n",
       "       58, 94, 85, 69, 72, 51, 57, 42, 41, 67, 79, 59, 44, 63, 86, 66, 43,\n",
       "       46, 61, 81, 52, 64, 40, 73, 77, 78, 54, 47, 56])"
      ]
     },
     "execution_count": 6,
     "metadata": {},
     "output_type": "execute_result"
    }
   ],
   "source": [
    "data.age = data.age.astype(\"int64\")\n",
    "data.age.dtype\n",
    "data.age.unique()"
   ]
  },
  {
   "cell_type": "markdown",
   "id": "3f200b87",
   "metadata": {
    "papermill": {
     "duration": 0.064446,
     "end_time": "2022-03-28T14:16:09.040510",
     "exception": false,
     "start_time": "2022-03-28T14:16:08.976064",
     "status": "completed"
    },
    "tags": []
   },
   "source": [
    "Lets' look at the \"platelets\" column:"
   ]
  },
  {
   "cell_type": "code",
   "execution_count": 7,
   "id": "354c6605",
   "metadata": {
    "execution": {
     "iopub.execute_input": "2022-03-28T14:16:09.172288Z",
     "iopub.status.busy": "2022-03-28T14:16:09.171284Z",
     "iopub.status.idle": "2022-03-28T14:16:09.175581Z",
     "shell.execute_reply": "2022-03-28T14:16:09.174914Z",
     "shell.execute_reply.started": "2022-03-28T14:14:49.568300Z"
    },
    "papermill": {
     "duration": 0.072947,
     "end_time": "2022-03-28T14:16:09.175775",
     "exception": false,
     "start_time": "2022-03-28T14:16:09.102828",
     "status": "completed"
    },
    "tags": []
   },
   "outputs": [
    {
     "data": {
      "text/plain": [
       "array([265000.  , 263358.03, 162000.  , 210000.  , 327000.  , 204000.  ,\n",
       "       127000.  , 454000.  , 388000.  , 368000.  , 253000.  , 136000.  ,\n",
       "       276000.  , 427000.  ,  47000.  , 262000.  , 166000.  , 237000.  ,\n",
       "        87000.  , 297000.  , 289000.  , 149000.  , 196000.  , 284000.  ,\n",
       "       153000.  , 200000.  , 360000.  , 319000.  , 302000.  , 188000.  ,\n",
       "       228000.  , 226000.  , 321000.  , 305000.  , 329000.  , 185000.  ,\n",
       "       218000.  , 194000.  , 310000.  , 271000.  , 451000.  , 140000.  ,\n",
       "       395000.  , 418000.  , 351000.  , 255000.  , 461000.  , 223000.  ,\n",
       "       216000.  , 254000.  , 390000.  , 385000.  , 119000.  , 213000.  ,\n",
       "       274000.  , 244000.  , 497000.  , 374000.  , 122000.  , 243000.  ,\n",
       "       266000.  , 317000.  , 283000.  , 324000.  , 293000.  , 172000.  ,\n",
       "       406000.  , 173000.  , 304000.  , 235000.  , 181000.  , 249000.  ,\n",
       "       219000.  , 318000.  , 221000.  , 298000.  , 286000.  , 621000.  ,\n",
       "       263000.  , 850000.  , 306000.  , 252000.  , 328000.  , 164000.  ,\n",
       "       507000.  , 203000.  , 217000.  , 300000.  , 267000.  , 227000.  ,\n",
       "       250000.  , 295000.  , 231000.  , 211000.  , 348000.  , 229000.  ,\n",
       "       338000.  , 242000.  , 225000.  , 184000.  , 277000.  , 362000.  ,\n",
       "       174000.  , 448000.  ,  75000.  , 334000.  , 192000.  , 220000.  ,\n",
       "        70000.  , 270000.  , 325000.  , 176000.  , 189000.  , 281000.  ,\n",
       "       337000.  , 105000.  , 132000.  , 279000.  , 303000.  , 224000.  ,\n",
       "       389000.  , 365000.  , 201000.  , 275000.  , 350000.  , 309000.  ,\n",
       "       260000.  , 160000.  , 126000.  , 259000.  ,  73000.  , 377000.  ,\n",
       "       212000.  , 186000.  , 268000.  , 147000.  , 481000.  , 290000.  ,\n",
       "       358000.  , 151000.  , 371000.  , 130000.  , 504000.  , 141000.  ,\n",
       "        62000.  , 330000.  , 248000.  , 257000.  , 533000.  , 264000.  ,\n",
       "       282000.  , 314000.  , 246000.  , 301000.  , 404000.  , 236000.  ,\n",
       "       294000.  , 233000.  , 308000.  , 198000.  , 208000.  , 133000.  ,\n",
       "       222000.  , 215000.  , 150000.  , 422000.  ,  25100.  , 232000.  ,\n",
       "       241000.  ,  51000.  , 336000.  , 543000.  , 382000.  , 179000.  ,\n",
       "       155000.  , 742000.  ])"
      ]
     },
     "execution_count": 7,
     "metadata": {},
     "output_type": "execute_result"
    }
   ],
   "source": [
    "data.platelets.unique()"
   ]
  },
  {
   "cell_type": "markdown",
   "id": "ce175622",
   "metadata": {
    "papermill": {
     "duration": 0.064692,
     "end_time": "2022-03-28T14:16:09.300099",
     "exception": false,
     "start_time": "2022-03-28T14:16:09.235407",
     "status": "completed"
    },
    "tags": []
   },
   "source": [
    "These values seem to be very large! probably because they are in platelets/mL measure, converting it to kiloplatelets/mL would make the values more compact. Finally, we will converty it to int"
   ]
  },
  {
   "cell_type": "code",
   "execution_count": 8,
   "id": "a257f902",
   "metadata": {
    "execution": {
     "iopub.execute_input": "2022-03-28T14:16:09.438794Z",
     "iopub.status.busy": "2022-03-28T14:16:09.437865Z",
     "iopub.status.idle": "2022-03-28T14:16:09.441613Z",
     "shell.execute_reply": "2022-03-28T14:16:09.442195Z",
     "shell.execute_reply.started": "2022-03-28T14:14:49.581330Z"
    },
    "papermill": {
     "duration": 0.080809,
     "end_time": "2022-03-28T14:16:09.442379",
     "exception": false,
     "start_time": "2022-03-28T14:16:09.361570",
     "status": "completed"
    },
    "tags": []
   },
   "outputs": [
    {
     "data": {
      "text/plain": [
       "array([265, 263, 162, 210, 327, 204, 127, 454, 388, 368, 253, 136, 276,\n",
       "       427,  47, 262, 166, 237,  87, 297, 289, 149, 196, 284, 153, 200,\n",
       "       360, 319, 302, 188, 228, 226, 321, 305, 329, 185, 218, 194, 310,\n",
       "       271, 451, 140, 395, 418, 351, 255, 461, 223, 216, 254, 390, 385,\n",
       "       119, 213, 274, 244, 497, 374, 122, 243, 266, 317, 283, 324, 293,\n",
       "       172, 406, 173, 304, 235, 181, 249, 219, 318, 221, 298, 286, 621,\n",
       "       850, 306, 252, 328, 164, 507, 203, 217, 300, 267, 227, 250, 295,\n",
       "       231, 211, 348, 229, 338, 242, 225, 184, 277, 362, 174, 448,  75,\n",
       "       334, 192, 220,  70, 270, 325, 176, 189, 281, 337, 105, 132, 279,\n",
       "       303, 224, 389, 365, 201, 275, 350, 309, 260, 160, 126, 259,  73,\n",
       "       377, 212, 186, 268, 147, 481, 290, 358, 151, 371, 130, 504, 141,\n",
       "        62, 330, 248, 257, 533, 264, 282, 314, 246, 301, 404, 236, 294,\n",
       "       233, 308, 198, 208, 133, 222, 215, 150, 422,  25, 232, 241,  51,\n",
       "       336, 543, 382, 179, 155, 742])"
      ]
     },
     "execution_count": 8,
     "metadata": {},
     "output_type": "execute_result"
    }
   ],
   "source": [
    "data.platelets = (data.platelets / 1000).astype(\"int64\")\n",
    "data.platelets.unique()"
   ]
  },
  {
   "cell_type": "code",
   "execution_count": 9,
   "id": "b1c4ceb6",
   "metadata": {
    "execution": {
     "iopub.execute_input": "2022-03-28T14:16:09.570839Z",
     "iopub.status.busy": "2022-03-28T14:16:09.570135Z",
     "iopub.status.idle": "2022-03-28T14:16:09.573340Z",
     "shell.execute_reply": "2022-03-28T14:16:09.572838Z",
     "shell.execute_reply.started": "2022-03-28T14:14:49.597689Z"
    },
    "papermill": {
     "duration": 0.069484,
     "end_time": "2022-03-28T14:16:09.573490",
     "exception": false,
     "start_time": "2022-03-28T14:16:09.504006",
     "status": "completed"
    },
    "tags": []
   },
   "outputs": [
    {
     "data": {
      "text/plain": [
       "array([  4,   6,   7,   8,  10,  11,  12,  13,  14,  15,  16,  20,  22,\n",
       "        23,  24,  26,  27,  28,  29,  30,  31,  32,  33,  35,  38,  40,\n",
       "        41,  42,  43,  44,  45,  50,  54,  55,  59,  60,  61,  63,  64,\n",
       "        65,  66,  67,  68,  71,  72,  73,  74,  75,  76,  77,  78,  79,\n",
       "        80,  82,  83,  85,  86,  87,  88,  90,  91,  94,  95,  96,  97,\n",
       "       100, 104, 105, 106, 107, 108, 109, 110, 111, 112, 113, 115, 117,\n",
       "       118, 119, 120, 121, 123, 126, 129, 130, 134, 135, 140, 145, 146,\n",
       "       147, 148, 150, 154, 162, 170, 171, 172, 174, 175, 180, 185, 186,\n",
       "       187, 188, 192, 193, 194, 195, 196, 197, 198, 200, 201, 205, 206,\n",
       "       207, 208, 209, 210, 211, 212, 213, 214, 215, 216, 220, 230, 231,\n",
       "       233, 235, 237, 240, 241, 244, 245, 246, 247, 250, 256, 257, 258,\n",
       "       270, 271, 278, 280, 285])"
      ]
     },
     "execution_count": 9,
     "metadata": {},
     "output_type": "execute_result"
    }
   ],
   "source": [
    "data.time.unique()"
   ]
  },
  {
   "cell_type": "markdown",
   "id": "c6c9a1e1",
   "metadata": {
    "papermill": {
     "duration": 0.061303,
     "end_time": "2022-03-28T14:16:09.697135",
     "exception": false,
     "start_time": "2022-03-28T14:16:09.635832",
     "status": "completed"
    },
    "tags": []
   },
   "source": [
    "Let's change the date column which indicates the number of days between medical inspection for the patients. Let's rescale this data to weeks (starting from once a month)."
   ]
  },
  {
   "cell_type": "code",
   "execution_count": 10,
   "id": "90465d1a",
   "metadata": {
    "execution": {
     "iopub.execute_input": "2022-03-28T14:16:09.860179Z",
     "iopub.status.busy": "2022-03-28T14:16:09.859051Z",
     "iopub.status.idle": "2022-03-28T14:16:09.881784Z",
     "shell.execute_reply": "2022-03-28T14:16:09.882868Z",
     "shell.execute_reply.started": "2022-03-28T14:14:49.613431Z"
    },
    "papermill": {
     "duration": 0.116878,
     "end_time": "2022-03-28T14:16:09.883118",
     "exception": false,
     "start_time": "2022-03-28T14:16:09.766240",
     "status": "completed"
    },
    "tags": []
   },
   "outputs": [
    {
     "data": {
      "text/html": [
       "<div>\n",
       "<style scoped>\n",
       "    .dataframe tbody tr th:only-of-type {\n",
       "        vertical-align: middle;\n",
       "    }\n",
       "\n",
       "    .dataframe tbody tr th {\n",
       "        vertical-align: top;\n",
       "    }\n",
       "\n",
       "    .dataframe thead th {\n",
       "        text-align: right;\n",
       "    }\n",
       "</style>\n",
       "<table border=\"1\" class=\"dataframe\">\n",
       "  <thead>\n",
       "    <tr style=\"text-align: right;\">\n",
       "      <th></th>\n",
       "      <th>age</th>\n",
       "      <th>anaemia</th>\n",
       "      <th>creatinine_phosphokinase</th>\n",
       "      <th>diabetes</th>\n",
       "      <th>ejection_fraction</th>\n",
       "      <th>high_blood_pressure</th>\n",
       "      <th>platelets</th>\n",
       "      <th>serum_creatinine</th>\n",
       "      <th>serum_sodium</th>\n",
       "      <th>sex</th>\n",
       "      <th>smoking</th>\n",
       "      <th>time</th>\n",
       "      <th>DEATH_EVENT</th>\n",
       "    </tr>\n",
       "  </thead>\n",
       "  <tbody>\n",
       "    <tr>\n",
       "      <th>0</th>\n",
       "      <td>75</td>\n",
       "      <td>0</td>\n",
       "      <td>582</td>\n",
       "      <td>0</td>\n",
       "      <td>20</td>\n",
       "      <td>1</td>\n",
       "      <td>265</td>\n",
       "      <td>1.9</td>\n",
       "      <td>130</td>\n",
       "      <td>1</td>\n",
       "      <td>0</td>\n",
       "      <td>1</td>\n",
       "      <td>1</td>\n",
       "    </tr>\n",
       "    <tr>\n",
       "      <th>1</th>\n",
       "      <td>55</td>\n",
       "      <td>0</td>\n",
       "      <td>7861</td>\n",
       "      <td>0</td>\n",
       "      <td>38</td>\n",
       "      <td>0</td>\n",
       "      <td>263</td>\n",
       "      <td>1.1</td>\n",
       "      <td>136</td>\n",
       "      <td>1</td>\n",
       "      <td>0</td>\n",
       "      <td>1</td>\n",
       "      <td>1</td>\n",
       "    </tr>\n",
       "    <tr>\n",
       "      <th>2</th>\n",
       "      <td>65</td>\n",
       "      <td>0</td>\n",
       "      <td>146</td>\n",
       "      <td>0</td>\n",
       "      <td>20</td>\n",
       "      <td>0</td>\n",
       "      <td>162</td>\n",
       "      <td>1.3</td>\n",
       "      <td>129</td>\n",
       "      <td>1</td>\n",
       "      <td>1</td>\n",
       "      <td>1</td>\n",
       "      <td>1</td>\n",
       "    </tr>\n",
       "    <tr>\n",
       "      <th>3</th>\n",
       "      <td>50</td>\n",
       "      <td>1</td>\n",
       "      <td>111</td>\n",
       "      <td>0</td>\n",
       "      <td>20</td>\n",
       "      <td>0</td>\n",
       "      <td>210</td>\n",
       "      <td>1.9</td>\n",
       "      <td>137</td>\n",
       "      <td>1</td>\n",
       "      <td>0</td>\n",
       "      <td>1</td>\n",
       "      <td>1</td>\n",
       "    </tr>\n",
       "    <tr>\n",
       "      <th>4</th>\n",
       "      <td>65</td>\n",
       "      <td>1</td>\n",
       "      <td>160</td>\n",
       "      <td>1</td>\n",
       "      <td>20</td>\n",
       "      <td>0</td>\n",
       "      <td>327</td>\n",
       "      <td>2.7</td>\n",
       "      <td>116</td>\n",
       "      <td>0</td>\n",
       "      <td>0</td>\n",
       "      <td>2</td>\n",
       "      <td>1</td>\n",
       "    </tr>\n",
       "    <tr>\n",
       "      <th>...</th>\n",
       "      <td>...</td>\n",
       "      <td>...</td>\n",
       "      <td>...</td>\n",
       "      <td>...</td>\n",
       "      <td>...</td>\n",
       "      <td>...</td>\n",
       "      <td>...</td>\n",
       "      <td>...</td>\n",
       "      <td>...</td>\n",
       "      <td>...</td>\n",
       "      <td>...</td>\n",
       "      <td>...</td>\n",
       "      <td>...</td>\n",
       "    </tr>\n",
       "    <tr>\n",
       "      <th>294</th>\n",
       "      <td>62</td>\n",
       "      <td>0</td>\n",
       "      <td>61</td>\n",
       "      <td>1</td>\n",
       "      <td>38</td>\n",
       "      <td>1</td>\n",
       "      <td>155</td>\n",
       "      <td>1.1</td>\n",
       "      <td>143</td>\n",
       "      <td>1</td>\n",
       "      <td>1</td>\n",
       "      <td>39</td>\n",
       "      <td>0</td>\n",
       "    </tr>\n",
       "    <tr>\n",
       "      <th>295</th>\n",
       "      <td>55</td>\n",
       "      <td>0</td>\n",
       "      <td>1820</td>\n",
       "      <td>0</td>\n",
       "      <td>38</td>\n",
       "      <td>0</td>\n",
       "      <td>270</td>\n",
       "      <td>1.2</td>\n",
       "      <td>139</td>\n",
       "      <td>0</td>\n",
       "      <td>0</td>\n",
       "      <td>39</td>\n",
       "      <td>0</td>\n",
       "    </tr>\n",
       "    <tr>\n",
       "      <th>296</th>\n",
       "      <td>45</td>\n",
       "      <td>0</td>\n",
       "      <td>2060</td>\n",
       "      <td>1</td>\n",
       "      <td>60</td>\n",
       "      <td>0</td>\n",
       "      <td>742</td>\n",
       "      <td>0.8</td>\n",
       "      <td>138</td>\n",
       "      <td>0</td>\n",
       "      <td>0</td>\n",
       "      <td>40</td>\n",
       "      <td>0</td>\n",
       "    </tr>\n",
       "    <tr>\n",
       "      <th>297</th>\n",
       "      <td>45</td>\n",
       "      <td>0</td>\n",
       "      <td>2413</td>\n",
       "      <td>0</td>\n",
       "      <td>38</td>\n",
       "      <td>0</td>\n",
       "      <td>140</td>\n",
       "      <td>1.4</td>\n",
       "      <td>140</td>\n",
       "      <td>1</td>\n",
       "      <td>1</td>\n",
       "      <td>40</td>\n",
       "      <td>0</td>\n",
       "    </tr>\n",
       "    <tr>\n",
       "      <th>298</th>\n",
       "      <td>50</td>\n",
       "      <td>0</td>\n",
       "      <td>196</td>\n",
       "      <td>0</td>\n",
       "      <td>45</td>\n",
       "      <td>0</td>\n",
       "      <td>395</td>\n",
       "      <td>1.6</td>\n",
       "      <td>136</td>\n",
       "      <td>1</td>\n",
       "      <td>1</td>\n",
       "      <td>41</td>\n",
       "      <td>0</td>\n",
       "    </tr>\n",
       "  </tbody>\n",
       "</table>\n",
       "<p>299 rows × 13 columns</p>\n",
       "</div>"
      ],
      "text/plain": [
       "     age  anaemia  creatinine_phosphokinase  diabetes  ejection_fraction  \\\n",
       "0     75        0                       582         0                 20   \n",
       "1     55        0                      7861         0                 38   \n",
       "2     65        0                       146         0                 20   \n",
       "3     50        1                       111         0                 20   \n",
       "4     65        1                       160         1                 20   \n",
       "..   ...      ...                       ...       ...                ...   \n",
       "294   62        0                        61         1                 38   \n",
       "295   55        0                      1820         0                 38   \n",
       "296   45        0                      2060         1                 60   \n",
       "297   45        0                      2413         0                 38   \n",
       "298   50        0                       196         0                 45   \n",
       "\n",
       "     high_blood_pressure  platelets  serum_creatinine  serum_sodium  sex  \\\n",
       "0                      1        265               1.9           130    1   \n",
       "1                      0        263               1.1           136    1   \n",
       "2                      0        162               1.3           129    1   \n",
       "3                      0        210               1.9           137    1   \n",
       "4                      0        327               2.7           116    0   \n",
       "..                   ...        ...               ...           ...  ...   \n",
       "294                    1        155               1.1           143    1   \n",
       "295                    0        270               1.2           139    0   \n",
       "296                    0        742               0.8           138    0   \n",
       "297                    0        140               1.4           140    1   \n",
       "298                    0        395               1.6           136    1   \n",
       "\n",
       "     smoking  time  DEATH_EVENT  \n",
       "0          0     1            1  \n",
       "1          0     1            1  \n",
       "2          1     1            1  \n",
       "3          0     1            1  \n",
       "4          0     2            1  \n",
       "..       ...   ...          ...  \n",
       "294        1    39            0  \n",
       "295        0    39            0  \n",
       "296        0    40            0  \n",
       "297        1    40            0  \n",
       "298        1    41            0  \n",
       "\n",
       "[299 rows x 13 columns]"
      ]
     },
     "execution_count": 10,
     "metadata": {},
     "output_type": "execute_result"
    }
   ],
   "source": [
    "data.time = np.ceil(data.time / 7).astype(\"int64\")\n",
    "data.time.unique()\n",
    "data"
   ]
  },
  {
   "cell_type": "markdown",
   "id": "ddc1005c",
   "metadata": {
    "papermill": {
     "duration": 0.061871,
     "end_time": "2022-03-28T14:16:10.034971",
     "exception": false,
     "start_time": "2022-03-28T14:16:09.973100",
     "status": "completed"
    },
    "tags": []
   },
   "source": [
    "## Remove columns"
   ]
  },
  {
   "cell_type": "markdown",
   "id": "908c3672",
   "metadata": {
    "papermill": {
     "duration": 0.07127,
     "end_time": "2022-03-28T14:16:10.179271",
     "exception": false,
     "start_time": "2022-03-28T14:16:10.108001",
     "status": "completed"
    },
    "tags": []
   },
   "source": [
    "Finally, let's check the binrary columns are actually binary (anemia, diabetes, high blood plessure, sex, smoking)"
   ]
  },
  {
   "cell_type": "code",
   "execution_count": 11,
   "id": "b3b4fc47",
   "metadata": {
    "execution": {
     "iopub.execute_input": "2022-03-28T14:16:10.307587Z",
     "iopub.status.busy": "2022-03-28T14:16:10.306536Z",
     "iopub.status.idle": "2022-03-28T14:16:10.319643Z",
     "shell.execute_reply": "2022-03-28T14:16:10.320302Z",
     "shell.execute_reply.started": "2022-03-28T14:14:49.638882Z"
    },
    "papermill": {
     "duration": 0.079042,
     "end_time": "2022-03-28T14:16:10.320479",
     "exception": false,
     "start_time": "2022-03-28T14:16:10.241437",
     "status": "completed"
    },
    "tags": []
   },
   "outputs": [
    {
     "data": {
      "text/plain": [
       "age                           int64\n",
       "anaemia                        bool\n",
       "creatinine_phosphokinase      int64\n",
       "diabetes                       bool\n",
       "ejection_fraction             int64\n",
       "high_blood_pressure            bool\n",
       "platelets                     int64\n",
       "serum_creatinine            float64\n",
       "serum_sodium                  int64\n",
       "sex                            bool\n",
       "smoking                        bool\n",
       "time                          int64\n",
       "DEATH_EVENT                    bool\n",
       "dtype: object"
      ]
     },
     "execution_count": 11,
     "metadata": {},
     "output_type": "execute_result"
    }
   ],
   "source": [
    "data.anaemia = data.anaemia.astype(\"bool\")\n",
    "data.diabetes = data.diabetes.astype(\"bool\")\n",
    "data.high_blood_pressure = data.high_blood_pressure.astype(\"bool\")\n",
    "data.sex = data.sex.astype(\"bool\")\n",
    "data.smoking = data.smoking.astype(\"bool\")\n",
    "data.DEATH_EVENT = data.DEATH_EVENT.astype(\"bool\")\n",
    "data.dtypes"
   ]
  },
  {
   "cell_type": "markdown",
   "id": "70eeb3c1",
   "metadata": {
    "papermill": {
     "duration": 0.062196,
     "end_time": "2022-03-28T14:16:10.444947",
     "exception": false,
     "start_time": "2022-03-28T14:16:10.382751",
     "status": "completed"
    },
    "tags": []
   },
   "source": [
    "Let's try removing columns that have low correlation to the DEATH_EVNET value:"
   ]
  },
  {
   "cell_type": "code",
   "execution_count": 12,
   "id": "46a38808",
   "metadata": {
    "execution": {
     "iopub.execute_input": "2022-03-28T14:16:10.575648Z",
     "iopub.status.busy": "2022-03-28T14:16:10.574624Z",
     "iopub.status.idle": "2022-03-28T14:16:11.093983Z",
     "shell.execute_reply": "2022-03-28T14:16:11.093249Z",
     "shell.execute_reply.started": "2022-03-28T14:14:49.653266Z"
    },
    "papermill": {
     "duration": 0.58551,
     "end_time": "2022-03-28T14:16:11.094138",
     "exception": false,
     "start_time": "2022-03-28T14:16:10.508628",
     "status": "completed"
    },
    "tags": []
   },
   "outputs": [
    {
     "name": "stdout",
     "output_type": "stream",
     "text": [
      "Correlation to 'WAU' value:\n",
      "DEATH_EVENT                 1.000000\n",
      "time                       -0.526917\n",
      "serum_creatinine            0.294278\n",
      "ejection_fraction          -0.268603\n",
      "age                         0.253581\n",
      "serum_sodium               -0.195204\n",
      "high_blood_pressure         0.079351\n",
      "anaemia                     0.066270\n",
      "creatinine_phosphokinase    0.062728\n",
      "platelets                  -0.049188\n",
      "smoking                    -0.012623\n",
      "sex                        -0.004316\n",
      "diabetes                   -0.001943\n",
      "Name: DEATH_EVENT, dtype: float64\n"
     ]
    },
    {
     "data": {
      "text/plain": [
       "Text(0.5, 1.0, 'Heart Failure Survival Heatmap')"
      ]
     },
     "execution_count": 12,
     "metadata": {},
     "output_type": "execute_result"
    },
    {
     "data": {
      "image/png": "[encoded data removed]",
      "text/plain": [
       "<Figure size 432x288 with 2 Axes>"
      ]
     },
     "metadata": {
      "needs_background": "light"
     },
     "output_type": "display_data"
    }
   ],
   "source": [
    "import seaborn as sns\n",
    "\n",
    "corr = data.corr().sort_values(ascending=False, key=lambda x: abs(x), by=\"DEATH_EVENT\")\n",
    "\n",
    "print(\"Correlation to 'WAU' value:\")\n",
    "print (corr[\"DEATH_EVENT\"])\n",
    "\n",
    "ax = sns.heatmap(\n",
    "    corr, \n",
    "    vmin=-1, vmax=1, center=0,\n",
    "    cmap=sns.diverging_palette(20, 220, n=200),\n",
    "    square=True,\n",
    ")\n",
    "ax.set_xticklabels(\n",
    "    ax.get_xticklabels(),\n",
    "    rotation=45,\n",
    "    horizontalalignment='right'\n",
    ")\n",
    "ax.set_title(\"Heart Failure Survival Heatmap\")"
   ]
  },
  {
   "cell_type": "markdown",
   "id": "e8bcd074",
   "metadata": {
    "papermill": {
     "duration": 0.075423,
     "end_time": "2022-03-28T14:16:11.236409",
     "exception": false,
     "start_time": "2022-03-28T14:16:11.160986",
     "status": "completed"
    },
    "tags": []
   },
   "source": [
    "Seems like \"diabetes\", \"sex\", and \"smoking\" have low correlation to the DEATH_EVENT value. Let's drop them:"
   ]
  },
  {
   "cell_type": "code",
   "execution_count": 13,
   "id": "95bedfa6",
   "metadata": {
    "execution": {
     "iopub.execute_input": "2022-03-28T14:16:11.403560Z",
     "iopub.status.busy": "2022-03-28T14:16:11.402504Z",
     "iopub.status.idle": "2022-03-28T14:16:11.405774Z",
     "shell.execute_reply": "2022-03-28T14:16:11.405150Z",
     "shell.execute_reply.started": "2022-03-28T14:14:50.116999Z"
    },
    "papermill": {
     "duration": 0.087677,
     "end_time": "2022-03-28T14:16:11.405927",
     "exception": false,
     "start_time": "2022-03-28T14:16:11.318250",
     "status": "completed"
    },
    "tags": []
   },
   "outputs": [],
   "source": [
    "data = data.drop(columns=[\"sex\", \"diabetes\", \"smoking\"])"
   ]
  },
  {
   "cell_type": "code",
   "execution_count": 14,
   "id": "b838be75",
   "metadata": {
    "execution": {
     "iopub.execute_input": "2022-03-28T14:16:11.539588Z",
     "iopub.status.busy": "2022-03-28T14:16:11.538458Z",
     "iopub.status.idle": "2022-03-28T14:16:11.554218Z",
     "shell.execute_reply": "2022-03-28T14:16:11.553641Z",
     "shell.execute_reply.started": "2022-03-28T14:14:50.126108Z"
    },
    "papermill": {
     "duration": 0.082991,
     "end_time": "2022-03-28T14:16:11.554376",
     "exception": false,
     "start_time": "2022-03-28T14:16:11.471385",
     "status": "completed"
    },
    "tags": []
   },
   "outputs": [
    {
     "data": {
      "text/html": [
       "<div>\n",
       "<style scoped>\n",
       "    .dataframe tbody tr th:only-of-type {\n",
       "        vertical-align: middle;\n",
       "    }\n",
       "\n",
       "    .dataframe tbody tr th {\n",
       "        vertical-align: top;\n",
       "    }\n",
       "\n",
       "    .dataframe thead th {\n",
       "        text-align: right;\n",
       "    }\n",
       "</style>\n",
       "<table border=\"1\" class=\"dataframe\">\n",
       "  <thead>\n",
       "    <tr style=\"text-align: right;\">\n",
       "      <th></th>\n",
       "      <th>age</th>\n",
       "      <th>anaemia</th>\n",
       "      <th>creatinine_phosphokinase</th>\n",
       "      <th>ejection_fraction</th>\n",
       "      <th>high_blood_pressure</th>\n",
       "      <th>platelets</th>\n",
       "      <th>serum_creatinine</th>\n",
       "      <th>serum_sodium</th>\n",
       "      <th>time</th>\n",
       "      <th>DEATH_EVENT</th>\n",
       "    </tr>\n",
       "  </thead>\n",
       "  <tbody>\n",
       "    <tr>\n",
       "      <th>0</th>\n",
       "      <td>75</td>\n",
       "      <td>False</td>\n",
       "      <td>582</td>\n",
       "      <td>20</td>\n",
       "      <td>True</td>\n",
       "      <td>265</td>\n",
       "      <td>1.9</td>\n",
       "      <td>130</td>\n",
       "      <td>1</td>\n",
       "      <td>True</td>\n",
       "    </tr>\n",
       "    <tr>\n",
       "      <th>1</th>\n",
       "      <td>55</td>\n",
       "      <td>False</td>\n",
       "      <td>7861</td>\n",
       "      <td>38</td>\n",
       "      <td>False</td>\n",
       "      <td>263</td>\n",
       "      <td>1.1</td>\n",
       "      <td>136</td>\n",
       "      <td>1</td>\n",
       "      <td>True</td>\n",
       "    </tr>\n",
       "    <tr>\n",
       "      <th>2</th>\n",
       "      <td>65</td>\n",
       "      <td>False</td>\n",
       "      <td>146</td>\n",
       "      <td>20</td>\n",
       "      <td>False</td>\n",
       "      <td>162</td>\n",
       "      <td>1.3</td>\n",
       "      <td>129</td>\n",
       "      <td>1</td>\n",
       "      <td>True</td>\n",
       "    </tr>\n",
       "    <tr>\n",
       "      <th>3</th>\n",
       "      <td>50</td>\n",
       "      <td>True</td>\n",
       "      <td>111</td>\n",
       "      <td>20</td>\n",
       "      <td>False</td>\n",
       "      <td>210</td>\n",
       "      <td>1.9</td>\n",
       "      <td>137</td>\n",
       "      <td>1</td>\n",
       "      <td>True</td>\n",
       "    </tr>\n",
       "    <tr>\n",
       "      <th>4</th>\n",
       "      <td>65</td>\n",
       "      <td>True</td>\n",
       "      <td>160</td>\n",
       "      <td>20</td>\n",
       "      <td>False</td>\n",
       "      <td>327</td>\n",
       "      <td>2.7</td>\n",
       "      <td>116</td>\n",
       "      <td>2</td>\n",
       "      <td>True</td>\n",
       "    </tr>\n",
       "  </tbody>\n",
       "</table>\n",
       "</div>"
      ],
      "text/plain": [
       "   age  anaemia  creatinine_phosphokinase  ejection_fraction  \\\n",
       "0   75    False                       582                 20   \n",
       "1   55    False                      7861                 38   \n",
       "2   65    False                       146                 20   \n",
       "3   50     True                       111                 20   \n",
       "4   65     True                       160                 20   \n",
       "\n",
       "   high_blood_pressure  platelets  serum_creatinine  serum_sodium  time  \\\n",
       "0                 True        265               1.9           130     1   \n",
       "1                False        263               1.1           136     1   \n",
       "2                False        162               1.3           129     1   \n",
       "3                False        210               1.9           137     1   \n",
       "4                False        327               2.7           116     2   \n",
       "\n",
       "   DEATH_EVENT  \n",
       "0         True  \n",
       "1         True  \n",
       "2         True  \n",
       "3         True  \n",
       "4         True  "
      ]
     },
     "execution_count": 14,
     "metadata": {},
     "output_type": "execute_result"
    }
   ],
   "source": [
    "data.head()"
   ]
  },
  {
   "cell_type": "markdown",
   "id": "6fd6c9f4",
   "metadata": {
    "papermill": {
     "duration": 0.064656,
     "end_time": "2022-03-28T14:16:11.684103",
     "exception": false,
     "start_time": "2022-03-28T14:16:11.619447",
     "status": "completed"
    },
    "tags": []
   },
   "source": [
    "## Remove outliers"
   ]
  },
  {
   "cell_type": "code",
   "execution_count": 15,
   "id": "6dcf75a7",
   "metadata": {
    "execution": {
     "iopub.execute_input": "2022-03-28T14:16:11.818092Z",
     "iopub.status.busy": "2022-03-28T14:16:11.817374Z",
     "iopub.status.idle": "2022-03-28T14:16:11.860162Z",
     "shell.execute_reply": "2022-03-28T14:16:11.860701Z",
     "shell.execute_reply.started": "2022-03-28T14:14:50.148783Z"
    },
    "papermill": {
     "duration": 0.111779,
     "end_time": "2022-03-28T14:16:11.860889",
     "exception": false,
     "start_time": "2022-03-28T14:16:11.749110",
     "status": "completed"
    },
    "tags": []
   },
   "outputs": [
    {
     "data": {
      "text/html": [
       "<div>\n",
       "<style scoped>\n",
       "    .dataframe tbody tr th:only-of-type {\n",
       "        vertical-align: middle;\n",
       "    }\n",
       "\n",
       "    .dataframe tbody tr th {\n",
       "        vertical-align: top;\n",
       "    }\n",
       "\n",
       "    .dataframe thead th {\n",
       "        text-align: right;\n",
       "    }\n",
       "</style>\n",
       "<table border=\"1\" class=\"dataframe\">\n",
       "  <thead>\n",
       "    <tr style=\"text-align: right;\">\n",
       "      <th></th>\n",
       "      <th>age</th>\n",
       "      <th>anaemia</th>\n",
       "      <th>creatinine_phosphokinase</th>\n",
       "      <th>ejection_fraction</th>\n",
       "      <th>high_blood_pressure</th>\n",
       "      <th>platelets</th>\n",
       "      <th>serum_creatinine</th>\n",
       "      <th>serum_sodium</th>\n",
       "      <th>time</th>\n",
       "      <th>DEATH_EVENT</th>\n",
       "    </tr>\n",
       "  </thead>\n",
       "  <tbody>\n",
       "    <tr>\n",
       "      <th>count</th>\n",
       "      <td>299.000000</td>\n",
       "      <td>299</td>\n",
       "      <td>299.000000</td>\n",
       "      <td>299.000000</td>\n",
       "      <td>299</td>\n",
       "      <td>299.000000</td>\n",
       "      <td>299.00000</td>\n",
       "      <td>299.000000</td>\n",
       "      <td>299.000000</td>\n",
       "      <td>299</td>\n",
       "    </tr>\n",
       "    <tr>\n",
       "      <th>unique</th>\n",
       "      <td>NaN</td>\n",
       "      <td>2</td>\n",
       "      <td>NaN</td>\n",
       "      <td>NaN</td>\n",
       "      <td>2</td>\n",
       "      <td>NaN</td>\n",
       "      <td>NaN</td>\n",
       "      <td>NaN</td>\n",
       "      <td>NaN</td>\n",
       "      <td>2</td>\n",
       "    </tr>\n",
       "    <tr>\n",
       "      <th>top</th>\n",
       "      <td>NaN</td>\n",
       "      <td>False</td>\n",
       "      <td>NaN</td>\n",
       "      <td>NaN</td>\n",
       "      <td>False</td>\n",
       "      <td>NaN</td>\n",
       "      <td>NaN</td>\n",
       "      <td>NaN</td>\n",
       "      <td>NaN</td>\n",
       "      <td>False</td>\n",
       "    </tr>\n",
       "    <tr>\n",
       "      <th>freq</th>\n",
       "      <td>NaN</td>\n",
       "      <td>170</td>\n",
       "      <td>NaN</td>\n",
       "      <td>NaN</td>\n",
       "      <td>194</td>\n",
       "      <td>NaN</td>\n",
       "      <td>NaN</td>\n",
       "      <td>NaN</td>\n",
       "      <td>NaN</td>\n",
       "      <td>203</td>\n",
       "    </tr>\n",
       "    <tr>\n",
       "      <th>mean</th>\n",
       "      <td>60.829431</td>\n",
       "      <td>NaN</td>\n",
       "      <td>581.839465</td>\n",
       "      <td>38.083612</td>\n",
       "      <td>NaN</td>\n",
       "      <td>263.327759</td>\n",
       "      <td>1.39388</td>\n",
       "      <td>136.625418</td>\n",
       "      <td>19.026756</td>\n",
       "      <td>NaN</td>\n",
       "    </tr>\n",
       "    <tr>\n",
       "      <th>std</th>\n",
       "      <td>11.894997</td>\n",
       "      <td>NaN</td>\n",
       "      <td>970.287881</td>\n",
       "      <td>11.834841</td>\n",
       "      <td>NaN</td>\n",
       "      <td>97.805105</td>\n",
       "      <td>1.03451</td>\n",
       "      <td>4.412477</td>\n",
       "      <td>11.038035</td>\n",
       "      <td>NaN</td>\n",
       "    </tr>\n",
       "    <tr>\n",
       "      <th>min</th>\n",
       "      <td>40.000000</td>\n",
       "      <td>NaN</td>\n",
       "      <td>23.000000</td>\n",
       "      <td>14.000000</td>\n",
       "      <td>NaN</td>\n",
       "      <td>25.000000</td>\n",
       "      <td>0.50000</td>\n",
       "      <td>113.000000</td>\n",
       "      <td>1.000000</td>\n",
       "      <td>NaN</td>\n",
       "    </tr>\n",
       "    <tr>\n",
       "      <th>25%</th>\n",
       "      <td>51.000000</td>\n",
       "      <td>NaN</td>\n",
       "      <td>116.500000</td>\n",
       "      <td>30.000000</td>\n",
       "      <td>NaN</td>\n",
       "      <td>212.500000</td>\n",
       "      <td>0.90000</td>\n",
       "      <td>134.000000</td>\n",
       "      <td>11.000000</td>\n",
       "      <td>NaN</td>\n",
       "    </tr>\n",
       "    <tr>\n",
       "      <th>50%</th>\n",
       "      <td>60.000000</td>\n",
       "      <td>NaN</td>\n",
       "      <td>250.000000</td>\n",
       "      <td>38.000000</td>\n",
       "      <td>NaN</td>\n",
       "      <td>262.000000</td>\n",
       "      <td>1.10000</td>\n",
       "      <td>137.000000</td>\n",
       "      <td>17.000000</td>\n",
       "      <td>NaN</td>\n",
       "    </tr>\n",
       "    <tr>\n",
       "      <th>75%</th>\n",
       "      <td>70.000000</td>\n",
       "      <td>NaN</td>\n",
       "      <td>582.000000</td>\n",
       "      <td>45.000000</td>\n",
       "      <td>NaN</td>\n",
       "      <td>303.500000</td>\n",
       "      <td>1.40000</td>\n",
       "      <td>140.000000</td>\n",
       "      <td>29.500000</td>\n",
       "      <td>NaN</td>\n",
       "    </tr>\n",
       "    <tr>\n",
       "      <th>max</th>\n",
       "      <td>95.000000</td>\n",
       "      <td>NaN</td>\n",
       "      <td>7861.000000</td>\n",
       "      <td>80.000000</td>\n",
       "      <td>NaN</td>\n",
       "      <td>850.000000</td>\n",
       "      <td>9.40000</td>\n",
       "      <td>148.000000</td>\n",
       "      <td>41.000000</td>\n",
       "      <td>NaN</td>\n",
       "    </tr>\n",
       "  </tbody>\n",
       "</table>\n",
       "</div>"
      ],
      "text/plain": [
       "               age anaemia  creatinine_phosphokinase  ejection_fraction  \\\n",
       "count   299.000000     299                299.000000         299.000000   \n",
       "unique         NaN       2                       NaN                NaN   \n",
       "top            NaN   False                       NaN                NaN   \n",
       "freq           NaN     170                       NaN                NaN   \n",
       "mean     60.829431     NaN                581.839465          38.083612   \n",
       "std      11.894997     NaN                970.287881          11.834841   \n",
       "min      40.000000     NaN                 23.000000          14.000000   \n",
       "25%      51.000000     NaN                116.500000          30.000000   \n",
       "50%      60.000000     NaN                250.000000          38.000000   \n",
       "75%      70.000000     NaN                582.000000          45.000000   \n",
       "max      95.000000     NaN               7861.000000          80.000000   \n",
       "\n",
       "       high_blood_pressure   platelets  serum_creatinine  serum_sodium  \\\n",
       "count                  299  299.000000         299.00000    299.000000   \n",
       "unique                   2         NaN               NaN           NaN   \n",
       "top                  False         NaN               NaN           NaN   \n",
       "freq                   194         NaN               NaN           NaN   \n",
       "mean                   NaN  263.327759           1.39388    136.625418   \n",
       "std                    NaN   97.805105           1.03451      4.412477   \n",
       "min                    NaN   25.000000           0.50000    113.000000   \n",
       "25%                    NaN  212.500000           0.90000    134.000000   \n",
       "50%                    NaN  262.000000           1.10000    137.000000   \n",
       "75%                    NaN  303.500000           1.40000    140.000000   \n",
       "max                    NaN  850.000000           9.40000    148.000000   \n",
       "\n",
       "              time DEATH_EVENT  \n",
       "count   299.000000         299  \n",
       "unique         NaN           2  \n",
       "top            NaN       False  \n",
       "freq           NaN         203  \n",
       "mean     19.026756         NaN  \n",
       "std      11.038035         NaN  \n",
       "min       1.000000         NaN  \n",
       "25%      11.000000         NaN  \n",
       "50%      17.000000         NaN  \n",
       "75%      29.500000         NaN  \n",
       "max      41.000000         NaN  "
      ]
     },
     "execution_count": 15,
     "metadata": {},
     "output_type": "execute_result"
    }
   ],
   "source": [
    "data.describe(include=\"all\")"
   ]
  },
  {
   "cell_type": "markdown",
   "id": "7a44b234",
   "metadata": {
    "papermill": {
     "duration": 0.065226,
     "end_time": "2022-03-28T14:16:11.993006",
     "exception": false,
     "start_time": "2022-03-28T14:16:11.927780",
     "status": "completed"
    },
    "tags": []
   },
   "source": [
    "### Ejection Fraction"
   ]
  },
  {
   "cell_type": "markdown",
   "id": "f8d68361",
   "metadata": {
    "papermill": {
     "duration": 0.065468,
     "end_time": "2022-03-28T14:16:12.124015",
     "exception": false,
     "start_time": "2022-03-28T14:16:12.058547",
     "status": "completed"
    },
    "tags": []
   },
   "source": [
    "Let's start with the \"ejection_fraction\" column. Ejaction fraction is the percentage of blood leaving the heart at each contraction."
   ]
  },
  {
   "cell_type": "code",
   "execution_count": 16,
   "id": "6869545d",
   "metadata": {
    "execution": {
     "iopub.execute_input": "2022-03-28T14:16:12.281309Z",
     "iopub.status.busy": "2022-03-28T14:16:12.259991Z",
     "iopub.status.idle": "2022-03-28T14:16:12.457541Z",
     "shell.execute_reply": "2022-03-28T14:16:12.458128Z",
     "shell.execute_reply.started": "2022-03-28T14:14:50.194648Z"
    },
    "papermill": {
     "duration": 0.267616,
     "end_time": "2022-03-28T14:16:12.458321",
     "exception": false,
     "start_time": "2022-03-28T14:16:12.190705",
     "status": "completed"
    },
    "tags": []
   },
   "outputs": [
    {
     "data": {
      "text/plain": [
       "[Text(0.5, 1.0, 'Ejection Fraction Boxplot (before outliers removal)')]"
      ]
     },
     "execution_count": 16,
     "metadata": {},
     "output_type": "execute_result"
    },
    {
     "data": {
      "image/png": "[encoded data removed]",
      "text/plain": [
       "<Figure size 432x288 with 1 Axes>"
      ]
     },
     "metadata": {
      "needs_background": "light"
     },
     "output_type": "display_data"
    }
   ],
   "source": [
    "sns.boxplot(x=data.ejection_fraction, color='teal').set(title='Ejection Fraction Boxplot (before outliers removal)')"
   ]
  },
  {
   "cell_type": "markdown",
   "id": "6c3e4ecd",
   "metadata": {
    "papermill": {
     "duration": 0.067529,
     "end_time": "2022-03-28T14:16:12.596267",
     "exception": false,
     "start_time": "2022-03-28T14:16:12.528738",
     "status": "completed"
    },
    "tags": []
   },
   "source": [
    "Seems like we have two outliers: 70, 80. Let's remove them:"
   ]
  },
  {
   "cell_type": "code",
   "execution_count": 17,
   "id": "f1e52d98",
   "metadata": {
    "execution": {
     "iopub.execute_input": "2022-03-28T14:16:12.762839Z",
     "iopub.status.busy": "2022-03-28T14:16:12.762079Z",
     "iopub.status.idle": "2022-03-28T14:16:12.917575Z",
     "shell.execute_reply": "2022-03-28T14:16:12.916467Z",
     "shell.execute_reply.started": "2022-03-28T14:14:50.381378Z"
    },
    "papermill": {
     "duration": 0.252189,
     "end_time": "2022-03-28T14:16:12.917789",
     "exception": false,
     "start_time": "2022-03-28T14:16:12.665600",
     "status": "completed"
    },
    "tags": []
   },
   "outputs": [
    {
     "data": {
      "text/plain": [
       "[Text(0.5, 1.0, 'Ejection Fraction Boxplot (after outliers removal)')]"
      ]
     },
     "execution_count": 17,
     "metadata": {},
     "output_type": "execute_result"
    },
    {
     "data": {
      "image/png": "[encoded data removed]",
      "text/plain": [
       "<Figure size 432x288 with 1 Axes>"
      ]
     },
     "metadata": {
      "needs_background": "light"
     },
     "output_type": "display_data"
    }
   ],
   "source": [
    "data = data.drop(data[data.ejection_fraction >= 70].index)\n",
    "sns.boxplot(x=data.ejection_fraction, color='teal').set(title='Ejection Fraction Boxplot (after outliers removal)')"
   ]
  },
  {
   "cell_type": "markdown",
   "id": "9275f50d",
   "metadata": {
    "papermill": {
     "duration": 0.068138,
     "end_time": "2022-03-28T14:16:13.054631",
     "exception": false,
     "start_time": "2022-03-28T14:16:12.986493",
     "status": "completed"
    },
    "tags": []
   },
   "source": [
    "### Platelets"
   ]
  },
  {
   "cell_type": "code",
   "execution_count": 18,
   "id": "afdf7028",
   "metadata": {
    "execution": {
     "iopub.execute_input": "2022-03-28T14:16:13.195108Z",
     "iopub.status.busy": "2022-03-28T14:16:13.194041Z",
     "iopub.status.idle": "2022-03-28T14:16:13.366689Z",
     "shell.execute_reply": "2022-03-28T14:16:13.367184Z",
     "shell.execute_reply.started": "2022-03-28T14:14:50.552664Z"
    },
    "papermill": {
     "duration": 0.24513,
     "end_time": "2022-03-28T14:16:13.367372",
     "exception": false,
     "start_time": "2022-03-28T14:16:13.122242",
     "status": "completed"
    },
    "tags": []
   },
   "outputs": [
    {
     "data": {
      "text/plain": [
       "[Text(0.5, 1.0, 'Platelets Boxplot (before outliers removal)')]"
      ]
     },
     "execution_count": 18,
     "metadata": {},
     "output_type": "execute_result"
    },
    {
     "data": {
      "image/png": "[encoded data removed]",
      "text/plain": [
       "<Figure size 432x288 with 1 Axes>"
      ]
     },
     "metadata": {
      "needs_background": "light"
     },
     "output_type": "display_data"
    }
   ],
   "source": [
    "sns.boxplot(x=data.platelets, color='teal').set(title='Platelets Boxplot (before outliers removal)')"
   ]
  },
  {
   "cell_type": "markdown",
   "id": "6b4f3096",
   "metadata": {
    "papermill": {
     "duration": 0.068698,
     "end_time": "2022-03-28T14:16:13.504770",
     "exception": false,
     "start_time": "2022-03-28T14:16:13.436072",
     "status": "completed"
    },
    "tags": []
   },
   "source": [
    "Seems line we have lots of outliers: values below 100 kiloplatelets/mL or higher than ~400 kiloplatelets/mL. Normal platelets levels are 150-450 kiloplatelets/mL, while a value lower than 10 is considered extremely low and above 450 is considered very high. Seems like removing that value higher than 650 would be a good choice (two outliers)."
   ]
  },
  {
   "cell_type": "code",
   "execution_count": 19,
   "id": "79961b5f",
   "metadata": {
    "execution": {
     "iopub.execute_input": "2022-03-28T14:16:13.657109Z",
     "iopub.status.busy": "2022-03-28T14:16:13.645789Z",
     "iopub.status.idle": "2022-03-28T14:16:13.659834Z",
     "shell.execute_reply": "2022-03-28T14:16:13.660454Z",
     "shell.execute_reply.started": "2022-03-28T14:14:50.728252Z"
    },
    "papermill": {
     "duration": 0.086876,
     "end_time": "2022-03-28T14:16:13.660648",
     "exception": false,
     "start_time": "2022-03-28T14:16:13.573772",
     "status": "completed"
    },
    "tags": []
   },
   "outputs": [
    {
     "data": {
      "text/html": [
       "<div>\n",
       "<style scoped>\n",
       "    .dataframe tbody tr th:only-of-type {\n",
       "        vertical-align: middle;\n",
       "    }\n",
       "\n",
       "    .dataframe tbody tr th {\n",
       "        vertical-align: top;\n",
       "    }\n",
       "\n",
       "    .dataframe thead th {\n",
       "        text-align: right;\n",
       "    }\n",
       "</style>\n",
       "<table border=\"1\" class=\"dataframe\">\n",
       "  <thead>\n",
       "    <tr style=\"text-align: right;\">\n",
       "      <th></th>\n",
       "      <th>age</th>\n",
       "      <th>anaemia</th>\n",
       "      <th>creatinine_phosphokinase</th>\n",
       "      <th>ejection_fraction</th>\n",
       "      <th>high_blood_pressure</th>\n",
       "      <th>platelets</th>\n",
       "      <th>serum_creatinine</th>\n",
       "      <th>serum_sodium</th>\n",
       "      <th>time</th>\n",
       "      <th>DEATH_EVENT</th>\n",
       "    </tr>\n",
       "  </thead>\n",
       "  <tbody>\n",
       "    <tr>\n",
       "      <th>109</th>\n",
       "      <td>45</td>\n",
       "      <td>False</td>\n",
       "      <td>292</td>\n",
       "      <td>35</td>\n",
       "      <td>False</td>\n",
       "      <td>850</td>\n",
       "      <td>1.3</td>\n",
       "      <td>142</td>\n",
       "      <td>13</td>\n",
       "      <td>False</td>\n",
       "    </tr>\n",
       "    <tr>\n",
       "      <th>296</th>\n",
       "      <td>45</td>\n",
       "      <td>False</td>\n",
       "      <td>2060</td>\n",
       "      <td>60</td>\n",
       "      <td>False</td>\n",
       "      <td>742</td>\n",
       "      <td>0.8</td>\n",
       "      <td>138</td>\n",
       "      <td>40</td>\n",
       "      <td>False</td>\n",
       "    </tr>\n",
       "  </tbody>\n",
       "</table>\n",
       "</div>"
      ],
      "text/plain": [
       "     age  anaemia  creatinine_phosphokinase  ejection_fraction  \\\n",
       "109   45    False                       292                 35   \n",
       "296   45    False                      2060                 60   \n",
       "\n",
       "     high_blood_pressure  platelets  serum_creatinine  serum_sodium  time  \\\n",
       "109                False        850               1.3           142    13   \n",
       "296                False        742               0.8           138    40   \n",
       "\n",
       "     DEATH_EVENT  \n",
       "109        False  \n",
       "296        False  "
      ]
     },
     "execution_count": 19,
     "metadata": {},
     "output_type": "execute_result"
    }
   ],
   "source": [
    "data[data.platelets > 650]"
   ]
  },
  {
   "cell_type": "code",
   "execution_count": 20,
   "id": "b2f90550",
   "metadata": {
    "execution": {
     "iopub.execute_input": "2022-03-28T14:16:13.806542Z",
     "iopub.status.busy": "2022-03-28T14:16:13.805769Z",
     "iopub.status.idle": "2022-03-28T14:16:13.997988Z",
     "shell.execute_reply": "2022-03-28T14:16:13.997420Z",
     "shell.execute_reply.started": "2022-03-28T14:14:50.743400Z"
    },
    "papermill": {
     "duration": 0.264725,
     "end_time": "2022-03-28T14:16:13.998168",
     "exception": false,
     "start_time": "2022-03-28T14:16:13.733443",
     "status": "completed"
    },
    "tags": []
   },
   "outputs": [
    {
     "data": {
      "text/plain": [
       "[Text(0.5, 1.0, 'Platelets Boxplot (after outliers removal)')]"
      ]
     },
     "execution_count": 20,
     "metadata": {},
     "output_type": "execute_result"
    },
    {
     "data": {
      "image/png": "[encoded data removed]",
      "text/plain": [
       "<Figure size 432x288 with 1 Axes>"
      ]
     },
     "metadata": {
      "needs_background": "light"
     },
     "output_type": "display_data"
    }
   ],
   "source": [
    "data = data.drop(data[data.platelets >= 650].index)\n",
    "sns.boxplot(x=data.platelets, color='teal').set(title='Platelets Boxplot (after outliers removal)')"
   ]
  },
  {
   "cell_type": "markdown",
   "id": "95832fa8",
   "metadata": {
    "papermill": {
     "duration": 0.070153,
     "end_time": "2022-03-28T14:16:14.140057",
     "exception": false,
     "start_time": "2022-03-28T14:16:14.069904",
     "status": "completed"
    },
    "tags": []
   },
   "source": [
    "### Serum Sodium"
   ]
  },
  {
   "cell_type": "code",
   "execution_count": 21,
   "id": "611e7b16",
   "metadata": {
    "execution": {
     "iopub.execute_input": "2022-03-28T14:16:14.284207Z",
     "iopub.status.busy": "2022-03-28T14:16:14.283527Z",
     "iopub.status.idle": "2022-03-28T14:16:14.473415Z",
     "shell.execute_reply": "2022-03-28T14:16:14.472777Z",
     "shell.execute_reply.started": "2022-03-28T14:14:50.925351Z"
    },
    "papermill": {
     "duration": 0.263258,
     "end_time": "2022-03-28T14:16:14.473558",
     "exception": false,
     "start_time": "2022-03-28T14:16:14.210300",
     "status": "completed"
    },
    "tags": []
   },
   "outputs": [
    {
     "data": {
      "text/plain": [
       "[Text(0.5, 1.0, 'Serum Sodium Boxplot (before outliers removal)')]"
      ]
     },
     "execution_count": 21,
     "metadata": {},
     "output_type": "execute_result"
    },
    {
     "data": {
      "image/png": "[encoded data removed]",
      "text/plain": [
       "<Figure size 432x288 with 1 Axes>"
      ]
     },
     "metadata": {
      "needs_background": "light"
     },
     "output_type": "display_data"
    }
   ],
   "source": [
    "sns.boxplot(x=data.serum_sodium, color='teal').set(title='Serum Sodium Boxplot (before outliers removal)')"
   ]
  },
  {
   "cell_type": "markdown",
   "id": "cdb76f08",
   "metadata": {
    "papermill": {
     "duration": 0.073518,
     "end_time": "2022-03-28T14:16:14.619849",
     "exception": false,
     "start_time": "2022-03-28T14:16:14.546331",
     "status": "completed"
    },
    "tags": []
   },
   "source": [
    "Normal values of serum sodium are 135-145 mEq/L, while values lower than 125 indicates severe Hyponatremia. Values under 120 would probably be outliers. Let's remove them:"
   ]
  },
  {
   "cell_type": "code",
   "execution_count": 22,
   "id": "f2481076",
   "metadata": {
    "execution": {
     "iopub.execute_input": "2022-03-28T14:16:14.780443Z",
     "iopub.status.busy": "2022-03-28T14:16:14.779731Z",
     "iopub.status.idle": "2022-03-28T14:16:14.786626Z",
     "shell.execute_reply": "2022-03-28T14:16:14.786068Z",
     "shell.execute_reply.started": "2022-03-28T14:14:51.112040Z"
    },
    "papermill": {
     "duration": 0.090424,
     "end_time": "2022-03-28T14:16:14.786795",
     "exception": false,
     "start_time": "2022-03-28T14:16:14.696371",
     "status": "completed"
    },
    "tags": []
   },
   "outputs": [
    {
     "data": {
      "text/html": [
       "<div>\n",
       "<style scoped>\n",
       "    .dataframe tbody tr th:only-of-type {\n",
       "        vertical-align: middle;\n",
       "    }\n",
       "\n",
       "    .dataframe tbody tr th {\n",
       "        vertical-align: top;\n",
       "    }\n",
       "\n",
       "    .dataframe thead th {\n",
       "        text-align: right;\n",
       "    }\n",
       "</style>\n",
       "<table border=\"1\" class=\"dataframe\">\n",
       "  <thead>\n",
       "    <tr style=\"text-align: right;\">\n",
       "      <th></th>\n",
       "      <th>age</th>\n",
       "      <th>anaemia</th>\n",
       "      <th>creatinine_phosphokinase</th>\n",
       "      <th>ejection_fraction</th>\n",
       "      <th>high_blood_pressure</th>\n",
       "      <th>platelets</th>\n",
       "      <th>serum_creatinine</th>\n",
       "      <th>serum_sodium</th>\n",
       "      <th>time</th>\n",
       "      <th>DEATH_EVENT</th>\n",
       "    </tr>\n",
       "  </thead>\n",
       "  <tbody>\n",
       "    <tr>\n",
       "      <th>4</th>\n",
       "      <td>65</td>\n",
       "      <td>True</td>\n",
       "      <td>160</td>\n",
       "      <td>20</td>\n",
       "      <td>False</td>\n",
       "      <td>327</td>\n",
       "      <td>2.7</td>\n",
       "      <td>116</td>\n",
       "      <td>2</td>\n",
       "      <td>True</td>\n",
       "    </tr>\n",
       "    <tr>\n",
       "      <th>199</th>\n",
       "      <td>60</td>\n",
       "      <td>False</td>\n",
       "      <td>1211</td>\n",
       "      <td>35</td>\n",
       "      <td>False</td>\n",
       "      <td>263</td>\n",
       "      <td>1.8</td>\n",
       "      <td>113</td>\n",
       "      <td>27</td>\n",
       "      <td>False</td>\n",
       "    </tr>\n",
       "  </tbody>\n",
       "</table>\n",
       "</div>"
      ],
      "text/plain": [
       "     age  anaemia  creatinine_phosphokinase  ejection_fraction  \\\n",
       "4     65     True                       160                 20   \n",
       "199   60    False                      1211                 35   \n",
       "\n",
       "     high_blood_pressure  platelets  serum_creatinine  serum_sodium  time  \\\n",
       "4                  False        327               2.7           116     2   \n",
       "199                False        263               1.8           113    27   \n",
       "\n",
       "     DEATH_EVENT  \n",
       "4           True  \n",
       "199        False  "
      ]
     },
     "execution_count": 22,
     "metadata": {},
     "output_type": "execute_result"
    }
   ],
   "source": [
    "data[data.serum_sodium < 120]"
   ]
  },
  {
   "cell_type": "code",
   "execution_count": 23,
   "id": "699610fc",
   "metadata": {
    "execution": {
     "iopub.execute_input": "2022-03-28T14:16:14.957323Z",
     "iopub.status.busy": "2022-03-28T14:16:14.956268Z",
     "iopub.status.idle": "2022-03-28T14:16:15.139967Z",
     "shell.execute_reply": "2022-03-28T14:16:15.140487Z",
     "shell.execute_reply.started": "2022-03-28T14:14:51.129610Z"
    },
    "papermill": {
     "duration": 0.276475,
     "end_time": "2022-03-28T14:16:15.140690",
     "exception": false,
     "start_time": "2022-03-28T14:16:14.864215",
     "status": "completed"
    },
    "tags": []
   },
   "outputs": [
    {
     "data": {
      "text/plain": [
       "[Text(0.5, 1.0, 'Serum Sodium Boxplot (after outliers removal)')]"
      ]
     },
     "execution_count": 23,
     "metadata": {},
     "output_type": "execute_result"
    },
    {
     "data": {
      "image/png": "[encoded data removed]",
      "text/plain": [
       "<Figure size 432x288 with 1 Axes>"
      ]
     },
     "metadata": {
      "needs_background": "light"
     },
     "output_type": "display_data"
    }
   ],
   "source": [
    "data = data.drop(data[data.serum_sodium < 120].index)\n",
    "sns.boxplot(x=data.serum_sodium, color='teal').set(title='Serum Sodium Boxplot (after outliers removal)')"
   ]
  },
  {
   "cell_type": "markdown",
   "id": "3b5ccc43",
   "metadata": {
    "papermill": {
     "duration": 0.075507,
     "end_time": "2022-03-28T14:16:15.291638",
     "exception": false,
     "start_time": "2022-03-28T14:16:15.216131",
     "status": "completed"
    },
    "tags": []
   },
   "source": [
    "### Serum Creatinine"
   ]
  },
  {
   "cell_type": "code",
   "execution_count": 24,
   "id": "c052acef",
   "metadata": {
    "execution": {
     "iopub.execute_input": "2022-03-28T14:16:15.462054Z",
     "iopub.status.busy": "2022-03-28T14:16:15.446529Z",
     "iopub.status.idle": "2022-03-28T14:16:15.625704Z",
     "shell.execute_reply": "2022-03-28T14:16:15.626220Z",
     "shell.execute_reply.started": "2022-03-28T14:14:51.324786Z"
    },
    "papermill": {
     "duration": 0.259901,
     "end_time": "2022-03-28T14:16:15.626411",
     "exception": false,
     "start_time": "2022-03-28T14:16:15.366510",
     "status": "completed"
    },
    "tags": []
   },
   "outputs": [
    {
     "data": {
      "text/plain": [
       "[Text(0.5, 1.0, 'Serum Creatinine Boxplot')]"
      ]
     },
     "execution_count": 24,
     "metadata": {},
     "output_type": "execute_result"
    },
    {
     "data": {
      "image/png": "[encoded data removed]",
      "text/plain": [
       "<Figure size 432x288 with 1 Axes>"
      ]
     },
     "metadata": {
      "needs_background": "light"
     },
     "output_type": "display_data"
    }
   ],
   "source": [
    "sns.boxplot(x=data.serum_creatinine, color='teal').set(title='Serum Creatinine Boxplot')"
   ]
  },
  {
   "cell_type": "markdown",
   "id": "59d8da99",
   "metadata": {
    "papermill": {
     "duration": 0.092712,
     "end_time": "2022-03-28T14:16:15.810844",
     "exception": false,
     "start_time": "2022-03-28T14:16:15.718132",
     "status": "completed"
    },
    "tags": []
   },
   "source": [
    "Values higher than 5 indicate severe kidney damage, so logically seems that serum creatinine levels higher than 8 are extremely high values (possibly outliers). Looking at the data I decided to leave them, because patients having values higher than 8 died from heart failure and it is possible than the high value is caused by additional medical disorder that lead to their death. Removing these outliers can lead to loss of valuable data!"
   ]
  },
  {
   "cell_type": "code",
   "execution_count": 25,
   "id": "ceb82d67",
   "metadata": {
    "execution": {
     "iopub.execute_input": "2022-03-28T14:16:15.971802Z",
     "iopub.status.busy": "2022-03-28T14:16:15.967319Z",
     "iopub.status.idle": "2022-03-28T14:16:15.984054Z",
     "shell.execute_reply": "2022-03-28T14:16:15.983474Z",
     "shell.execute_reply.started": "2022-03-28T14:14:51.488092Z"
    },
    "papermill": {
     "duration": 0.097917,
     "end_time": "2022-03-28T14:16:15.984211",
     "exception": false,
     "start_time": "2022-03-28T14:16:15.886294",
     "status": "completed"
    },
    "tags": []
   },
   "outputs": [
    {
     "data": {
      "text/html": [
       "<div>\n",
       "<style scoped>\n",
       "    .dataframe tbody tr th:only-of-type {\n",
       "        vertical-align: middle;\n",
       "    }\n",
       "\n",
       "    .dataframe tbody tr th {\n",
       "        vertical-align: top;\n",
       "    }\n",
       "\n",
       "    .dataframe thead th {\n",
       "        text-align: right;\n",
       "    }\n",
       "</style>\n",
       "<table border=\"1\" class=\"dataframe\">\n",
       "  <thead>\n",
       "    <tr style=\"text-align: right;\">\n",
       "      <th></th>\n",
       "      <th>age</th>\n",
       "      <th>anaemia</th>\n",
       "      <th>creatinine_phosphokinase</th>\n",
       "      <th>ejection_fraction</th>\n",
       "      <th>high_blood_pressure</th>\n",
       "      <th>platelets</th>\n",
       "      <th>serum_creatinine</th>\n",
       "      <th>serum_sodium</th>\n",
       "      <th>time</th>\n",
       "      <th>DEATH_EVENT</th>\n",
       "    </tr>\n",
       "  </thead>\n",
       "  <tbody>\n",
       "    <tr>\n",
       "      <th>9</th>\n",
       "      <td>80</td>\n",
       "      <td>True</td>\n",
       "      <td>123</td>\n",
       "      <td>35</td>\n",
       "      <td>True</td>\n",
       "      <td>388</td>\n",
       "      <td>9.4</td>\n",
       "      <td>133</td>\n",
       "      <td>2</td>\n",
       "      <td>True</td>\n",
       "    </tr>\n",
       "  </tbody>\n",
       "</table>\n",
       "</div>"
      ],
      "text/plain": [
       "   age  anaemia  creatinine_phosphokinase  ejection_fraction  \\\n",
       "9   80     True                       123                 35   \n",
       "\n",
       "   high_blood_pressure  platelets  serum_creatinine  serum_sodium  time  \\\n",
       "9                 True        388               9.4           133     2   \n",
       "\n",
       "   DEATH_EVENT  \n",
       "9         True  "
      ]
     },
     "execution_count": 25,
     "metadata": {},
     "output_type": "execute_result"
    }
   ],
   "source": [
    "data[data.serum_creatinine > 8]"
   ]
  },
  {
   "cell_type": "markdown",
   "id": "dd519032",
   "metadata": {
    "papermill": {
     "duration": 0.077872,
     "end_time": "2022-03-28T14:16:16.142368",
     "exception": false,
     "start_time": "2022-03-28T14:16:16.064496",
     "status": "completed"
    },
    "tags": []
   },
   "source": [
    "### Creatinine Phosphokinase"
   ]
  },
  {
   "cell_type": "code",
   "execution_count": 26,
   "id": "d04d7e1c",
   "metadata": {
    "execution": {
     "iopub.execute_input": "2022-03-28T14:16:16.327204Z",
     "iopub.status.busy": "2022-03-28T14:16:16.324640Z",
     "iopub.status.idle": "2022-03-28T14:16:16.509223Z",
     "shell.execute_reply": "2022-03-28T14:16:16.508564Z",
     "shell.execute_reply.started": "2022-03-28T14:14:51.505349Z"
    },
    "papermill": {
     "duration": 0.28656,
     "end_time": "2022-03-28T14:16:16.509378",
     "exception": false,
     "start_time": "2022-03-28T14:16:16.222818",
     "status": "completed"
    },
    "tags": []
   },
   "outputs": [
    {
     "data": {
      "text/plain": [
       "[Text(0.5, 1.0, 'Creatinine Phosphokinase Boxplot')]"
      ]
     },
     "execution_count": 26,
     "metadata": {},
     "output_type": "execute_result"
    },
    {
     "data": {
      "image/png": "[encoded data removed]",
      "text/plain": [
       "<Figure size 432x288 with 1 Axes>"
      ]
     },
     "metadata": {
      "needs_background": "light"
     },
     "output_type": "display_data"
    }
   ],
   "source": [
    "sns.boxplot(x=data.creatinine_phosphokinase, color='teal').set(title='Creatinine Phosphokinase Boxplot')"
   ]
  },
  {
   "cell_type": "markdown",
   "id": "19b90dc9",
   "metadata": {
    "papermill": {
     "duration": 0.084963,
     "end_time": "2022-03-28T14:16:16.683792",
     "exception": false,
     "start_time": "2022-03-28T14:16:16.598829",
     "status": "completed"
    },
    "tags": []
   },
   "source": [
    "Seems like creatinine phosphokinase are petty high levels and might be outliers, but looking at the data again these extreme levels might have actually led to the death event. So I decided to leave the outliers."
   ]
  },
  {
   "cell_type": "code",
   "execution_count": 27,
   "id": "33f51e34",
   "metadata": {
    "execution": {
     "iopub.execute_input": "2022-03-28T14:16:16.866558Z",
     "iopub.status.busy": "2022-03-28T14:16:16.865518Z",
     "iopub.status.idle": "2022-03-28T14:16:16.869390Z",
     "shell.execute_reply": "2022-03-28T14:16:16.869901Z",
     "shell.execute_reply.started": "2022-03-28T14:14:51.694211Z"
    },
    "papermill": {
     "duration": 0.098411,
     "end_time": "2022-03-28T14:16:16.870107",
     "exception": false,
     "start_time": "2022-03-28T14:16:16.771696",
     "status": "completed"
    },
    "tags": []
   },
   "outputs": [
    {
     "data": {
      "text/html": [
       "<div>\n",
       "<style scoped>\n",
       "    .dataframe tbody tr th:only-of-type {\n",
       "        vertical-align: middle;\n",
       "    }\n",
       "\n",
       "    .dataframe tbody tr th {\n",
       "        vertical-align: top;\n",
       "    }\n",
       "\n",
       "    .dataframe thead th {\n",
       "        text-align: right;\n",
       "    }\n",
       "</style>\n",
       "<table border=\"1\" class=\"dataframe\">\n",
       "  <thead>\n",
       "    <tr style=\"text-align: right;\">\n",
       "      <th></th>\n",
       "      <th>age</th>\n",
       "      <th>anaemia</th>\n",
       "      <th>creatinine_phosphokinase</th>\n",
       "      <th>ejection_fraction</th>\n",
       "      <th>high_blood_pressure</th>\n",
       "      <th>platelets</th>\n",
       "      <th>serum_creatinine</th>\n",
       "      <th>serum_sodium</th>\n",
       "      <th>time</th>\n",
       "      <th>DEATH_EVENT</th>\n",
       "    </tr>\n",
       "  </thead>\n",
       "  <tbody>\n",
       "    <tr>\n",
       "      <th>1</th>\n",
       "      <td>55</td>\n",
       "      <td>False</td>\n",
       "      <td>7861</td>\n",
       "      <td>38</td>\n",
       "      <td>False</td>\n",
       "      <td>263</td>\n",
       "      <td>1.1</td>\n",
       "      <td>136</td>\n",
       "      <td>1</td>\n",
       "      <td>True</td>\n",
       "    </tr>\n",
       "    <tr>\n",
       "      <th>60</th>\n",
       "      <td>45</td>\n",
       "      <td>False</td>\n",
       "      <td>7702</td>\n",
       "      <td>25</td>\n",
       "      <td>True</td>\n",
       "      <td>390</td>\n",
       "      <td>1.0</td>\n",
       "      <td>139</td>\n",
       "      <td>9</td>\n",
       "      <td>True</td>\n",
       "    </tr>\n",
       "  </tbody>\n",
       "</table>\n",
       "</div>"
      ],
      "text/plain": [
       "    age  anaemia  creatinine_phosphokinase  ejection_fraction  \\\n",
       "1    55    False                      7861                 38   \n",
       "60   45    False                      7702                 25   \n",
       "\n",
       "    high_blood_pressure  platelets  serum_creatinine  serum_sodium  time  \\\n",
       "1                 False        263               1.1           136     1   \n",
       "60                 True        390               1.0           139     9   \n",
       "\n",
       "    DEATH_EVENT  \n",
       "1          True  \n",
       "60         True  "
      ]
     },
     "execution_count": 27,
     "metadata": {},
     "output_type": "execute_result"
    }
   ],
   "source": [
    "data[data.creatinine_phosphokinase > 7000]"
   ]
  },
  {
   "cell_type": "markdown",
   "id": "89ee1078",
   "metadata": {
    "papermill": {
     "duration": 0.077946,
     "end_time": "2022-03-28T14:16:17.027627",
     "exception": false,
     "start_time": "2022-03-28T14:16:16.949681",
     "status": "completed"
    },
    "tags": []
   },
   "source": [
    "## Check imbalanced data"
   ]
  },
  {
   "cell_type": "markdown",
   "id": "7b9f54a1",
   "metadata": {
    "papermill": {
     "duration": 0.077451,
     "end_time": "2022-03-28T14:16:17.182798",
     "exception": false,
     "start_time": "2022-03-28T14:16:17.105347",
     "status": "completed"
    },
    "tags": []
   },
   "source": [
    "By looking at the data, it is clear that the data is very imbalanced, only third of the patients have actually died. In this classification problem we will care more about recall than precision, because predicting a \"no death event\" for a patient who eventually will die would be very unfortunate. Hence we would like to decrease the number of FN = high recall."
   ]
  },
  {
   "cell_type": "code",
   "execution_count": 28,
   "id": "6fa4c735",
   "metadata": {
    "execution": {
     "iopub.execute_input": "2022-03-28T14:16:17.346823Z",
     "iopub.status.busy": "2022-03-28T14:16:17.346035Z",
     "iopub.status.idle": "2022-03-28T14:16:17.536450Z",
     "shell.execute_reply": "2022-03-28T14:16:17.537111Z",
     "shell.execute_reply.started": "2022-03-28T14:14:51.708715Z"
    },
    "papermill": {
     "duration": 0.277061,
     "end_time": "2022-03-28T14:16:17.537288",
     "exception": false,
     "start_time": "2022-03-28T14:16:17.260227",
     "status": "completed"
    },
    "tags": []
   },
   "outputs": [
    {
     "data": {
      "text/plain": [
       "Text(0.5, 1.0, 'Death event distribution')"
      ]
     },
     "execution_count": 28,
     "metadata": {},
     "output_type": "execute_result"
    },
    {
     "data": {
      "image/png": "[encoded data removed]",
      "text/plain": [
       "<Figure size 432x288 with 1 Axes>"
      ]
     },
     "metadata": {
      "needs_background": "light"
     },
     "output_type": "display_data"
    }
   ],
   "source": [
    "sns.countplot(data.DEATH_EVENT).set_title(\"Death event distribution\")"
   ]
  },
  {
   "cell_type": "markdown",
   "id": "1da744de",
   "metadata": {
    "papermill": {
     "duration": 0.080749,
     "end_time": "2022-03-28T14:16:17.696767",
     "exception": false,
     "start_time": "2022-03-28T14:16:17.616018",
     "status": "completed"
    },
    "tags": []
   },
   "source": [
    "# Data Visualizaitons"
   ]
  },
  {
   "cell_type": "markdown",
   "id": "dc0a8234",
   "metadata": {
    "papermill": {
     "duration": 0.079031,
     "end_time": "2022-03-28T14:16:17.854754",
     "exception": false,
     "start_time": "2022-03-28T14:16:17.775723",
     "status": "completed"
    },
    "tags": []
   },
   "source": [
    "First we can notice than the patients with high blood pressure and anaemia may infer that a death event can occur:"
   ]
  },
  {
   "cell_type": "code",
   "execution_count": 29,
   "id": "1567f805",
   "metadata": {
    "execution": {
     "iopub.execute_input": "2022-03-28T14:16:18.025500Z",
     "iopub.status.busy": "2022-03-28T14:16:18.024465Z",
     "iopub.status.idle": "2022-03-28T14:16:18.305857Z",
     "shell.execute_reply": "2022-03-28T14:16:18.305247Z",
     "shell.execute_reply.started": "2022-03-28T14:14:51.900460Z"
    },
    "papermill": {
     "duration": 0.370974,
     "end_time": "2022-03-28T14:16:18.306047",
     "exception": false,
     "start_time": "2022-03-28T14:16:17.935073",
     "status": "completed"
    },
    "tags": []
   },
   "outputs": [
    {
     "data": {
      "text/plain": [
       "<matplotlib.legend.Legend at 0x7f268ed6c650>"
      ]
     },
     "execution_count": 29,
     "metadata": {},
     "output_type": "execute_result"
    },
    {
     "data": {
      "image/png": "[encoded data removed]",
      "text/plain": [
       "<Figure size 432x288 with 1 Axes>"
      ]
     },
     "metadata": {
      "needs_background": "light"
     },
     "output_type": "display_data"
    }
   ],
   "source": [
    "data[data[\"DEATH_EVENT\"] == True][\"ejection_fraction\"].plot.kde(label=\"Death event\").set_title(\"Ejection Fraction Density Graph\")\n",
    "data[data[\"DEATH_EVENT\"] == False][\"ejection_fraction\"].plot.kde(label=\"Survived\")\n",
    "plt.legend()"
   ]
  },
  {
   "cell_type": "code",
   "execution_count": 30,
   "id": "14466a8d",
   "metadata": {
    "execution": {
     "iopub.execute_input": "2022-03-28T14:16:18.638472Z",
     "iopub.status.busy": "2022-03-28T14:16:18.634919Z",
     "iopub.status.idle": "2022-03-28T14:16:18.873015Z",
     "shell.execute_reply": "2022-03-28T14:16:18.872446Z",
     "shell.execute_reply.started": "2022-03-28T14:14:52.145108Z"
    },
    "papermill": {
     "duration": 0.484465,
     "end_time": "2022-03-28T14:16:18.873172",
     "exception": false,
     "start_time": "2022-03-28T14:16:18.388707",
     "status": "completed"
    },
    "tags": []
   },
   "outputs": [
    {
     "data": {
      "text/plain": [
       "<matplotlib.legend.Legend at 0x7f2686d0abd0>"
      ]
     },
     "execution_count": 30,
     "metadata": {},
     "output_type": "execute_result"
    },
    {
     "data": {
      "image/png": "[encoded data removed]",
      "text/plain": [
       "<Figure size 432x288 with 1 Axes>"
      ]
     },
     "metadata": {
      "needs_background": "light"
     },
     "output_type": "display_data"
    }
   ],
   "source": [
    "data[data[\"DEATH_EVENT\"] == True][\"platelets\"].plot.kde(label=\"Death event\").set_title(\"Platelets Density Graph\")\n",
    "data[data[\"DEATH_EVENT\"] == False][\"platelets\"].plot.kde(label=\"Survived\")\n",
    "plt.legend()"
   ]
  },
  {
   "cell_type": "code",
   "execution_count": 31,
   "id": "1cdfdf42",
   "metadata": {
    "execution": {
     "iopub.execute_input": "2022-03-28T14:16:19.051052Z",
     "iopub.status.busy": "2022-03-28T14:16:19.050259Z",
     "iopub.status.idle": "2022-03-28T14:16:19.315725Z",
     "shell.execute_reply": "2022-03-28T14:16:19.316253Z",
     "shell.execute_reply.started": "2022-03-28T14:14:52.522300Z"
    },
    "papermill": {
     "duration": 0.360032,
     "end_time": "2022-03-28T14:16:19.316433",
     "exception": false,
     "start_time": "2022-03-28T14:16:18.956401",
     "status": "completed"
    },
    "tags": []
   },
   "outputs": [
    {
     "data": {
      "text/plain": [
       "<matplotlib.legend.Legend at 0x7f2686c98390>"
      ]
     },
     "execution_count": 31,
     "metadata": {},
     "output_type": "execute_result"
    },
    {
     "data": {
      "image/png": "[encoded data removed]",
      "text/plain": [
       "<Figure size 432x288 with 1 Axes>"
      ]
     },
     "metadata": {
      "needs_background": "light"
     },
     "output_type": "display_data"
    }
   ],
   "source": [
    "data[data[\"DEATH_EVENT\"] == True][\"serum_sodium\"].plot.kde(label=\"Death event\").set_title(\"Serum Sodium Density Graph\")\n",
    "data[data[\"DEATH_EVENT\"] == False][\"serum_sodium\"].plot.kde(label=\"Survived\")\n",
    "plt.legend()"
   ]
  },
  {
   "cell_type": "code",
   "execution_count": 32,
   "id": "dd11a3c6",
   "metadata": {
    "execution": {
     "iopub.execute_input": "2022-03-28T14:16:19.516003Z",
     "iopub.status.busy": "2022-03-28T14:16:19.512532Z",
     "iopub.status.idle": "2022-03-28T14:16:19.772805Z",
     "shell.execute_reply": "2022-03-28T14:16:19.772224Z",
     "shell.execute_reply.started": "2022-03-28T14:14:52.787325Z"
    },
    "papermill": {
     "duration": 0.372744,
     "end_time": "2022-03-28T14:16:19.772964",
     "exception": false,
     "start_time": "2022-03-28T14:16:19.400220",
     "status": "completed"
    },
    "tags": []
   },
   "outputs": [
    {
     "data": {
      "text/plain": [
       "<matplotlib.legend.Legend at 0x7f2686bc7c50>"
      ]
     },
     "execution_count": 32,
     "metadata": {},
     "output_type": "execute_result"
    },
    {
     "data": {
      "image/png": "[encoded data removed]",
      "text/plain": [
       "<Figure size 432x288 with 1 Axes>"
      ]
     },
     "metadata": {
      "needs_background": "light"
     },
     "output_type": "display_data"
    }
   ],
   "source": [
    "data[data[\"DEATH_EVENT\"] == True][\"creatinine_phosphokinase\"].plot.kde(label=\"Death event\").set_title(\"Creatinine Phosphokinase Density Graph\")\n",
    "data[data[\"DEATH_EVENT\"] == False][\"creatinine_phosphokinase\"].plot.kde(label=\"Survived\")\n",
    "plt.legend()"
   ]
  },
  {
   "cell_type": "code",
   "execution_count": 33,
   "id": "82894156",
   "metadata": {
    "execution": {
     "iopub.execute_input": "2022-03-28T14:16:19.960513Z",
     "iopub.status.busy": "2022-03-28T14:16:19.959771Z",
     "iopub.status.idle": "2022-03-28T14:16:20.229337Z",
     "shell.execute_reply": "2022-03-28T14:16:20.228737Z",
     "shell.execute_reply.started": "2022-03-28T14:14:53.048368Z"
    },
    "papermill": {
     "duration": 0.366866,
     "end_time": "2022-03-28T14:16:20.229488",
     "exception": false,
     "start_time": "2022-03-28T14:16:19.862622",
     "status": "completed"
    },
    "tags": []
   },
   "outputs": [
    {
     "data": {
      "text/plain": [
       "<matplotlib.legend.Legend at 0x7f2686adeb50>"
      ]
     },
     "execution_count": 33,
     "metadata": {},
     "output_type": "execute_result"
    },
    {
     "data": {
      "image/png": "[encoded data removed]",
      "text/plain": [
       "<Figure size 432x288 with 1 Axes>"
      ]
     },
     "metadata": {
      "needs_background": "light"
     },
     "output_type": "display_data"
    }
   ],
   "source": [
    "data[data[\"DEATH_EVENT\"] == True][\"serum_creatinine\"].plot.kde(label=\"Death event\").set_title(\"Creatinine Creatinine Density Graph\")\n",
    "data[data[\"DEATH_EVENT\"] == False][\"serum_creatinine\"].plot.kde(label=\"Survived\")\n",
    "plt.legend()"
   ]
  },
  {
   "cell_type": "code",
   "execution_count": 34,
   "id": "66c0d145",
   "metadata": {
    "execution": {
     "iopub.execute_input": "2022-03-28T14:16:20.414951Z",
     "iopub.status.busy": "2022-03-28T14:16:20.414172Z",
     "iopub.status.idle": "2022-03-28T14:16:20.678561Z",
     "shell.execute_reply": "2022-03-28T14:16:20.679168Z",
     "shell.execute_reply.started": "2022-03-28T14:14:53.295730Z"
    },
    "papermill": {
     "duration": 0.361616,
     "end_time": "2022-03-28T14:16:20.679348",
     "exception": false,
     "start_time": "2022-03-28T14:16:20.317732",
     "status": "completed"
    },
    "tags": []
   },
   "outputs": [
    {
     "data": {
      "text/plain": [
       "<matplotlib.legend.Legend at 0x7f2686aa4190>"
      ]
     },
     "execution_count": 34,
     "metadata": {},
     "output_type": "execute_result"
    },
    {
     "data": {
      "image/png": "[encoded data removed]",
      "text/plain": [
       "<Figure size 432x288 with 1 Axes>"
      ]
     },
     "metadata": {
      "needs_background": "light"
     },
     "output_type": "display_data"
    }
   ],
   "source": [
    "data[data[\"DEATH_EVENT\"] == True][\"time\"].plot.kde(label=\"Death event\").set_title(\"Time Creatinine Density Graph\")\n",
    "data[data[\"DEATH_EVENT\"] == False][\"time\"].plot.kde(label=\"Survived\")\n",
    "plt.legend()"
   ]
  },
  {
   "cell_type": "markdown",
   "id": "2ea55a23",
   "metadata": {
    "papermill": {
     "duration": 0.088152,
     "end_time": "2022-03-28T14:16:20.858255",
     "exception": false,
     "start_time": "2022-03-28T14:16:20.770103",
     "status": "completed"
    },
    "tags": []
   },
   "source": [
    "# Classification using Random Forest model"
   ]
  },
  {
   "cell_type": "markdown",
   "id": "c2f01afb",
   "metadata": {
    "papermill": {
     "duration": 0.091013,
     "end_time": "2022-03-28T14:16:21.038341",
     "exception": false,
     "start_time": "2022-03-28T14:16:20.947328",
     "status": "completed"
    },
    "tags": []
   },
   "source": [
    "Because the dataset is not large enough KFold would be a good choice 0 it would allow the model to train on enough examples and would provide food evaluation for the model's performance."
   ]
  },
  {
   "cell_type": "code",
   "execution_count": 35,
   "id": "337c61c0",
   "metadata": {
    "_kg_hide-input": true,
    "execution": {
     "iopub.execute_input": "2022-03-28T14:16:21.219433Z",
     "iopub.status.busy": "2022-03-28T14:16:21.218629Z",
     "iopub.status.idle": "2022-03-28T14:16:21.434206Z",
     "shell.execute_reply": "2022-03-28T14:16:21.432877Z",
     "shell.execute_reply.started": "2022-03-28T14:14:53.555253Z"
    },
    "papermill": {
     "duration": 0.307416,
     "end_time": "2022-03-28T14:16:21.434362",
     "exception": false,
     "start_time": "2022-03-28T14:16:21.126946",
     "status": "completed"
    },
    "tags": []
   },
   "outputs": [],
   "source": [
    "from sklearn.model_selection import RepeatedKFold\n",
    "\n",
    "data.reset_index(drop=True, inplace=True)\n",
    "features = [x for x in data.columns if x!='DEATH_EVENT']\n",
    "X = pd.get_dummies(data[features])\n",
    "y = data.DEATH_EVENT\n",
    "\n",
    "rkf = RepeatedKFold(n_splits=5, random_state=12345)\n",
    "train_index, test_index = list(rkf.split(X, y))[0]\n",
    "train, test = X.iloc[train_index], X.iloc[test_index]\n",
    "y_train, y_test = y[train_index], y[test_index]"
   ]
  },
  {
   "cell_type": "markdown",
   "id": "fc173681",
   "metadata": {
    "papermill": {
     "duration": 0.089091,
     "end_time": "2022-03-28T14:16:21.613075",
     "exception": false,
     "start_time": "2022-03-28T14:16:21.523984",
     "status": "completed"
    },
    "tags": []
   },
   "source": [
    "I will use the Random Forest model, adjusting its parameters using GridSearchCV: "
   ]
  },
  {
   "cell_type": "code",
   "execution_count": 36,
   "id": "f3df7066",
   "metadata": {
    "_kg_hide-input": true,
    "execution": {
     "iopub.execute_input": "2022-03-28T14:16:21.806279Z",
     "iopub.status.busy": "2022-03-28T14:16:21.805196Z",
     "iopub.status.idle": "2022-03-28T14:16:21.807851Z",
     "shell.execute_reply": "2022-03-28T14:16:21.808356Z",
     "shell.execute_reply.started": "2022-03-28T14:14:53.623078Z"
    },
    "papermill": {
     "duration": 0.107099,
     "end_time": "2022-03-28T14:16:21.808553",
     "exception": false,
     "start_time": "2022-03-28T14:16:21.701454",
     "status": "completed"
    },
    "tags": []
   },
   "outputs": [],
   "source": [
    "from sklearn.metrics import classification_report, roc_curve\n",
    "\n",
    "def find_best_threshold(thresholds, fpr, tpr):\n",
    "    \"\"\"\n",
    "    find the best threshold from the roc curve.\n",
    "    \"\"\"\n",
    "    fpr_tpr = pd.DataFrame({'thresholds': thresholds, 'fpr': fpr, 'tpr': tpr})\n",
    "    fpr_tpr['dist'] = (fpr_tpr['fpr'])**2 + (fpr_tpr['tpr']-1)**2\n",
    "    return fpr_tpr.loc[fpr_tpr.dist.argmin(), 'thresholds']\n",
    "\n",
    "\n",
    "def get_model_results(model, train, test, y_train, y_test):\n",
    "    \"\"\"\n",
    "    Get the results by printing ROC curve and other metrics.\n",
    "    \"\"\"\n",
    "    probabilities = model.predict_proba(test)[:,1]\n",
    "    fpr, tpr, thresholds = roc_curve(y_test, probabilities)\n",
    "    threshold = find_best_threshold(thresholds, fpr, tpr)\n",
    "    predictions = probabilities > threshold\n",
    "    \n",
    "    plt.figure()\n",
    "    plt.plot(fpr, tpr, label='test')\n",
    "    probabilities = model.predict_proba(train)[:,1]\n",
    "    fpr, tpr, thresholds = roc_curve(y_train, probabilities)\n",
    "    plt.plot(fpr, tpr, label='train')\n",
    "    plt.plot([0, 1], [0, 1], 'r--', label='random guess')\n",
    "    print(classification_report(y_test, predictions))\n",
    "    plt.legend()"
   ]
  },
  {
   "cell_type": "code",
   "execution_count": 37,
   "id": "94aa7752",
   "metadata": {
    "execution": {
     "iopub.execute_input": "2022-03-28T14:16:22.015162Z",
     "iopub.status.busy": "2022-03-28T14:16:22.013574Z",
     "iopub.status.idle": "2022-03-28T14:16:22.685357Z",
     "shell.execute_reply": "2022-03-28T14:16:22.685924Z",
     "shell.execute_reply.started": "2022-03-28T14:14:53.633663Z"
    },
    "papermill": {
     "duration": 0.779778,
     "end_time": "2022-03-28T14:16:22.686125",
     "exception": false,
     "start_time": "2022-03-28T14:16:21.906347",
     "status": "completed"
    },
    "tags": []
   },
   "outputs": [
    {
     "name": "stdout",
     "output_type": "stream",
     "text": [
      "              precision    recall  f1-score   support\n",
      "\n",
      "       False       0.94      0.81      0.87        37\n",
      "        True       0.74      0.91      0.82        22\n",
      "\n",
      "    accuracy                           0.85        59\n",
      "   macro avg       0.84      0.86      0.84        59\n",
      "weighted avg       0.86      0.85      0.85        59\n",
      "\n"
     ]
    },
    {
     "data": {
      "image/png": "[encoded data removed]",
      "text/plain": [
       "<Figure size 432x288 with 1 Axes>"
      ]
     },
     "metadata": {
      "needs_background": "light"
     },
     "output_type": "display_data"
    }
   ],
   "source": [
    "from sklearn.ensemble import RandomForestClassifier\n",
    "from sklearn.preprocessing import StandardScaler\n",
    "from sklearn.pipeline import make_pipeline\n",
    "\n",
    "pipeline = make_pipeline(StandardScaler(), RandomForestClassifier(n_estimators=150, min_samples_split=10, min_samples_leaf=5, max_depth=10, bootstrap=False))\n",
    "pipeline.fit(train, y_train)\n",
    "get_model_results(pipeline, train, test, y_train, y_test)"
   ]
  }
 ],
 "metadata": {
  "kernelspec": {
   "display_name": "Python 3",
   "language": "python",
   "name": "python3"
  },
  "language_info": {
   "codemirror_mode": {
    "name": "ipython",
    "version": 3
   },
   "file_extension": ".py",
   "mimetype": "text/x-python",
   "name": "python",
   "nbconvert_exporter": "python",
   "pygments_lexer": "ipython3",
   "version": "3.7.12"
  },
  "papermill": {
   "default_parameters": {},
   "duration": 28.557929,
   "end_time": "2022-03-28T14:16:23.687487",
   "environment_variables": {},
   "exception": null,
   "input_path": "__notebook__.ipynb",
   "output_path": "__notebook__.ipynb",
   "parameters": {},
   "start_time": "2022-03-28T14:15:55.129558",
   "version": "2.3.3"
  }
 },
 "nbformat": 4,
 "nbformat_minor": 5
}
