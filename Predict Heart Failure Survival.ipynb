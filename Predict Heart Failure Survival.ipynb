{
 "cells": [
  {
   "cell_type": "code",
   "execution_count": 1,
   "metadata": {},
   "outputs": [],
   "source": [
    "import warnings\n",
    "warnings.filterwarnings('ignore')\n",
    "import pandas as pd\n",
    "import numpy as np\n",
    "import seaborn as sns\n",
    "from matplotlib import pyplot as plt\n",
    "from scipy.stats import zscore"
   ]
  },
  {
   "cell_type": "markdown",
   "metadata": {},
   "source": [
    "# Preprocessing"
   ]
  },
  {
   "cell_type": "code",
   "execution_count": 2,
   "metadata": {
    "tags": []
   },
   "outputs": [
    {
     "data": {
      "text/html": [
       "<div>\n",
       "<style scoped>\n",
       "    .dataframe tbody tr th:only-of-type {\n",
       "        vertical-align: middle;\n",
       "    }\n",
       "\n",
       "    .dataframe tbody tr th {\n",
       "        vertical-align: top;\n",
       "    }\n",
       "\n",
       "    .dataframe thead th {\n",
       "        text-align: right;\n",
       "    }\n",
       "</style>\n",
       "<table border=\"1\" class=\"dataframe\">\n",
       "  <thead>\n",
       "    <tr style=\"text-align: right;\">\n",
       "      <th></th>\n",
       "      <th>age</th>\n",
       "      <th>anaemia</th>\n",
       "      <th>creatinine_phosphokinase</th>\n",
       "      <th>diabetes</th>\n",
       "      <th>ejection_fraction</th>\n",
       "      <th>high_blood_pressure</th>\n",
       "      <th>platelets</th>\n",
       "      <th>serum_creatinine</th>\n",
       "      <th>serum_sodium</th>\n",
       "      <th>sex</th>\n",
       "      <th>smoking</th>\n",
       "      <th>time</th>\n",
       "      <th>DEATH_EVENT</th>\n",
       "    </tr>\n",
       "  </thead>\n",
       "  <tbody>\n",
       "    <tr>\n",
       "      <th>0</th>\n",
       "      <td>75.0</td>\n",
       "      <td>0</td>\n",
       "      <td>582</td>\n",
       "      <td>0</td>\n",
       "      <td>20</td>\n",
       "      <td>1</td>\n",
       "      <td>265000.00</td>\n",
       "      <td>1.9</td>\n",
       "      <td>130</td>\n",
       "      <td>1</td>\n",
       "      <td>0</td>\n",
       "      <td>4</td>\n",
       "      <td>1</td>\n",
       "    </tr>\n",
       "    <tr>\n",
       "      <th>1</th>\n",
       "      <td>55.0</td>\n",
       "      <td>0</td>\n",
       "      <td>7861</td>\n",
       "      <td>0</td>\n",
       "      <td>38</td>\n",
       "      <td>0</td>\n",
       "      <td>263358.03</td>\n",
       "      <td>1.1</td>\n",
       "      <td>136</td>\n",
       "      <td>1</td>\n",
       "      <td>0</td>\n",
       "      <td>6</td>\n",
       "      <td>1</td>\n",
       "    </tr>\n",
       "    <tr>\n",
       "      <th>2</th>\n",
       "      <td>65.0</td>\n",
       "      <td>0</td>\n",
       "      <td>146</td>\n",
       "      <td>0</td>\n",
       "      <td>20</td>\n",
       "      <td>0</td>\n",
       "      <td>162000.00</td>\n",
       "      <td>1.3</td>\n",
       "      <td>129</td>\n",
       "      <td>1</td>\n",
       "      <td>1</td>\n",
       "      <td>7</td>\n",
       "      <td>1</td>\n",
       "    </tr>\n",
       "    <tr>\n",
       "      <th>3</th>\n",
       "      <td>50.0</td>\n",
       "      <td>1</td>\n",
       "      <td>111</td>\n",
       "      <td>0</td>\n",
       "      <td>20</td>\n",
       "      <td>0</td>\n",
       "      <td>210000.00</td>\n",
       "      <td>1.9</td>\n",
       "      <td>137</td>\n",
       "      <td>1</td>\n",
       "      <td>0</td>\n",
       "      <td>7</td>\n",
       "      <td>1</td>\n",
       "    </tr>\n",
       "    <tr>\n",
       "      <th>4</th>\n",
       "      <td>65.0</td>\n",
       "      <td>1</td>\n",
       "      <td>160</td>\n",
       "      <td>1</td>\n",
       "      <td>20</td>\n",
       "      <td>0</td>\n",
       "      <td>327000.00</td>\n",
       "      <td>2.7</td>\n",
       "      <td>116</td>\n",
       "      <td>0</td>\n",
       "      <td>0</td>\n",
       "      <td>8</td>\n",
       "      <td>1</td>\n",
       "    </tr>\n",
       "  </tbody>\n",
       "</table>\n",
       "</div>"
      ],
      "text/plain": [
       "    age  anaemia  creatinine_phosphokinase  diabetes  ejection_fraction  \\\n",
       "0  75.0        0                       582         0                 20   \n",
       "1  55.0        0                      7861         0                 38   \n",
       "2  65.0        0                       146         0                 20   \n",
       "3  50.0        1                       111         0                 20   \n",
       "4  65.0        1                       160         1                 20   \n",
       "\n",
       "   high_blood_pressure  platelets  serum_creatinine  serum_sodium  sex  \\\n",
       "0                    1  265000.00               1.9           130    1   \n",
       "1                    0  263358.03               1.1           136    1   \n",
       "2                    0  162000.00               1.3           129    1   \n",
       "3                    0  210000.00               1.9           137    1   \n",
       "4                    0  327000.00               2.7           116    0   \n",
       "\n",
       "   smoking  time  DEATH_EVENT  \n",
       "0        0     4            1  \n",
       "1        0     6            1  \n",
       "2        1     7            1  \n",
       "3        0     7            1  \n",
       "4        0     8            1  "
      ]
     },
     "execution_count": 2,
     "metadata": {},
     "output_type": "execute_result"
    }
   ],
   "source": [
    "data = pd.read_csv(\"heart_failure_clinical_records_dataset.csv\")\n",
    "data.head()"
   ]
  },
  {
   "cell_type": "markdown",
   "metadata": {},
   "source": [
    "## Handle missing values"
   ]
  },
  {
   "cell_type": "markdown",
   "metadata": {},
   "source": [
    "Let's start by checking if there's any missing data:"
   ]
  },
  {
   "cell_type": "code",
   "execution_count": 3,
   "metadata": {
    "tags": []
   },
   "outputs": [
    {
     "data": {
      "text/plain": [
       "age                         0\n",
       "anaemia                     0\n",
       "creatinine_phosphokinase    0\n",
       "diabetes                    0\n",
       "ejection_fraction           0\n",
       "high_blood_pressure         0\n",
       "platelets                   0\n",
       "serum_creatinine            0\n",
       "serum_sodium                0\n",
       "sex                         0\n",
       "smoking                     0\n",
       "time                        0\n",
       "DEATH_EVENT                 0\n",
       "dtype: int64"
      ]
     },
     "execution_count": 3,
     "metadata": {},
     "output_type": "execute_result"
    }
   ],
   "source": [
    "data.isnull().sum()"
   ]
  },
  {
   "cell_type": "markdown",
   "metadata": {},
   "source": [
    "Seems like we have no missing values!"
   ]
  },
  {
   "cell_type": "markdown",
   "metadata": {},
   "source": [
    "## Change data types"
   ]
  },
  {
   "cell_type": "markdown",
   "metadata": {},
   "source": [
    "Let's see the types of the columns and see if any conversions are needed:"
   ]
  },
  {
   "cell_type": "code",
   "execution_count": 4,
   "metadata": {
    "tags": []
   },
   "outputs": [
    {
     "data": {
      "text/plain": [
       "age                         float64\n",
       "anaemia                       int64\n",
       "creatinine_phosphokinase      int64\n",
       "diabetes                      int64\n",
       "ejection_fraction             int64\n",
       "high_blood_pressure           int64\n",
       "platelets                   float64\n",
       "serum_creatinine            float64\n",
       "serum_sodium                  int64\n",
       "sex                           int64\n",
       "smoking                       int64\n",
       "time                          int64\n",
       "DEATH_EVENT                   int64\n",
       "dtype: object"
      ]
     },
     "execution_count": 4,
     "metadata": {},
     "output_type": "execute_result"
    }
   ],
   "source": [
    "data.dtypes"
   ]
  },
  {
   "cell_type": "markdown",
   "metadata": {},
   "source": [
    "Seems like we should consider converting \"age\" and \"platelets\" to integers."
   ]
  },
  {
   "cell_type": "markdown",
   "metadata": {},
   "source": [
    "Let's strart by checking the values of \"age\" columns and see if we can convert it to integer:"
   ]
  },
  {
   "cell_type": "code",
   "execution_count": 5,
   "metadata": {
    "tags": []
   },
   "outputs": [
    {
     "data": {
      "text/plain": [
       "array([75.   , 55.   , 65.   , 50.   , 90.   , 60.   , 80.   , 62.   ,\n",
       "       45.   , 49.   , 82.   , 87.   , 70.   , 48.   , 68.   , 53.   ,\n",
       "       95.   , 58.   , 94.   , 85.   , 69.   , 72.   , 51.   , 57.   ,\n",
       "       42.   , 41.   , 67.   , 79.   , 59.   , 44.   , 63.   , 86.   ,\n",
       "       66.   , 43.   , 46.   , 61.   , 81.   , 52.   , 64.   , 40.   ,\n",
       "       60.667, 73.   , 77.   , 78.   , 54.   , 47.   , 56.   ])"
      ]
     },
     "execution_count": 5,
     "metadata": {},
     "output_type": "execute_result"
    }
   ],
   "source": [
    "data.age.unique()"
   ]
  },
  {
   "cell_type": "markdown",
   "metadata": {},
   "source": [
    "Seems like only one value in the dataset is an actual float vlue - let's converting this column to integer whould be a good choice:"
   ]
  },
  {
   "cell_type": "code",
   "execution_count": 6,
   "metadata": {},
   "outputs": [
    {
     "data": {
      "text/plain": [
       "array([75, 55, 65, 50, 90, 60, 80, 62, 45, 49, 82, 87, 70, 48, 68, 53, 95,\n",
       "       58, 94, 85, 69, 72, 51, 57, 42, 41, 67, 79, 59, 44, 63, 86, 66, 43,\n",
       "       46, 61, 81, 52, 64, 40, 73, 77, 78, 54, 47, 56], dtype=int64)"
      ]
     },
     "execution_count": 6,
     "metadata": {},
     "output_type": "execute_result"
    }
   ],
   "source": [
    "data.age = data.age.astype(\"int64\")\n",
    "data.age.dtype\n",
    "data.age.unique()"
   ]
  },
  {
   "cell_type": "markdown",
   "metadata": {},
   "source": [
    "Lets' look at the \"platelets\" column:"
   ]
  },
  {
   "cell_type": "code",
   "execution_count": 7,
   "metadata": {},
   "outputs": [
    {
     "data": {
      "text/plain": [
       "array([265000.  , 263358.03, 162000.  , 210000.  , 327000.  , 204000.  ,\n",
       "       127000.  , 454000.  , 388000.  , 368000.  , 253000.  , 136000.  ,\n",
       "       276000.  , 427000.  ,  47000.  , 262000.  , 166000.  , 237000.  ,\n",
       "        87000.  , 297000.  , 289000.  , 149000.  , 196000.  , 284000.  ,\n",
       "       153000.  , 200000.  , 360000.  , 319000.  , 302000.  , 188000.  ,\n",
       "       228000.  , 226000.  , 321000.  , 305000.  , 329000.  , 185000.  ,\n",
       "       218000.  , 194000.  , 310000.  , 271000.  , 451000.  , 140000.  ,\n",
       "       395000.  , 418000.  , 351000.  , 255000.  , 461000.  , 223000.  ,\n",
       "       216000.  , 254000.  , 390000.  , 385000.  , 119000.  , 213000.  ,\n",
       "       274000.  , 244000.  , 497000.  , 374000.  , 122000.  , 243000.  ,\n",
       "       266000.  , 317000.  , 283000.  , 324000.  , 293000.  , 172000.  ,\n",
       "       406000.  , 173000.  , 304000.  , 235000.  , 181000.  , 249000.  ,\n",
       "       219000.  , 318000.  , 221000.  , 298000.  , 286000.  , 621000.  ,\n",
       "       263000.  , 850000.  , 306000.  , 252000.  , 328000.  , 164000.  ,\n",
       "       507000.  , 203000.  , 217000.  , 300000.  , 267000.  , 227000.  ,\n",
       "       250000.  , 295000.  , 231000.  , 211000.  , 348000.  , 229000.  ,\n",
       "       338000.  , 242000.  , 225000.  , 184000.  , 277000.  , 362000.  ,\n",
       "       174000.  , 448000.  ,  75000.  , 334000.  , 192000.  , 220000.  ,\n",
       "        70000.  , 270000.  , 325000.  , 176000.  , 189000.  , 281000.  ,\n",
       "       337000.  , 105000.  , 132000.  , 279000.  , 303000.  , 224000.  ,\n",
       "       389000.  , 365000.  , 201000.  , 275000.  , 350000.  , 309000.  ,\n",
       "       260000.  , 160000.  , 126000.  , 259000.  ,  73000.  , 377000.  ,\n",
       "       212000.  , 186000.  , 268000.  , 147000.  , 481000.  , 290000.  ,\n",
       "       358000.  , 151000.  , 371000.  , 130000.  , 504000.  , 141000.  ,\n",
       "        62000.  , 330000.  , 248000.  , 257000.  , 533000.  , 264000.  ,\n",
       "       282000.  , 314000.  , 246000.  , 301000.  , 404000.  , 236000.  ,\n",
       "       294000.  , 233000.  , 308000.  , 198000.  , 208000.  , 133000.  ,\n",
       "       222000.  , 215000.  , 150000.  , 422000.  ,  25100.  , 232000.  ,\n",
       "       241000.  ,  51000.  , 336000.  , 543000.  , 382000.  , 179000.  ,\n",
       "       155000.  , 742000.  ])"
      ]
     },
     "execution_count": 7,
     "metadata": {},
     "output_type": "execute_result"
    }
   ],
   "source": [
    "data.platelets.unique()"
   ]
  },
  {
   "cell_type": "markdown",
   "metadata": {},
   "source": [
    "These values seem to be very large! probably because they are in platelets/mL measure, converting it to kiloplatelets/mL would make the values more compact. Finally, we will converty it to int"
   ]
  },
  {
   "cell_type": "code",
   "execution_count": 8,
   "metadata": {},
   "outputs": [
    {
     "data": {
      "text/plain": [
       "array([265, 263, 162, 210, 327, 204, 127, 454, 388, 368, 253, 136, 276,\n",
       "       427,  47, 262, 166, 237,  87, 297, 289, 149, 196, 284, 153, 200,\n",
       "       360, 319, 302, 188, 228, 226, 321, 305, 329, 185, 218, 194, 310,\n",
       "       271, 451, 140, 395, 418, 351, 255, 461, 223, 216, 254, 390, 385,\n",
       "       119, 213, 274, 244, 497, 374, 122, 243, 266, 317, 283, 324, 293,\n",
       "       172, 406, 173, 304, 235, 181, 249, 219, 318, 221, 298, 286, 621,\n",
       "       850, 306, 252, 328, 164, 507, 203, 217, 300, 267, 227, 250, 295,\n",
       "       231, 211, 348, 229, 338, 242, 225, 184, 277, 362, 174, 448,  75,\n",
       "       334, 192, 220,  70, 270, 325, 176, 189, 281, 337, 105, 132, 279,\n",
       "       303, 224, 389, 365, 201, 275, 350, 309, 260, 160, 126, 259,  73,\n",
       "       377, 212, 186, 268, 147, 481, 290, 358, 151, 371, 130, 504, 141,\n",
       "        62, 330, 248, 257, 533, 264, 282, 314, 246, 301, 404, 236, 294,\n",
       "       233, 308, 198, 208, 133, 222, 215, 150, 422,  25, 232, 241,  51,\n",
       "       336, 543, 382, 179, 155, 742], dtype=int64)"
      ]
     },
     "execution_count": 8,
     "metadata": {},
     "output_type": "execute_result"
    }
   ],
   "source": [
    "data.platelets = (data.platelets / 1000).astype(\"int64\")\n",
    "data.platelets.unique()"
   ]
  },
  {
   "cell_type": "code",
   "execution_count": 9,
   "metadata": {},
   "outputs": [
    {
     "data": {
      "text/plain": [
       "array([  4,   6,   7,   8,  10,  11,  12,  13,  14,  15,  16,  20,  22,\n",
       "        23,  24,  26,  27,  28,  29,  30,  31,  32,  33,  35,  38,  40,\n",
       "        41,  42,  43,  44,  45,  50,  54,  55,  59,  60,  61,  63,  64,\n",
       "        65,  66,  67,  68,  71,  72,  73,  74,  75,  76,  77,  78,  79,\n",
       "        80,  82,  83,  85,  86,  87,  88,  90,  91,  94,  95,  96,  97,\n",
       "       100, 104, 105, 106, 107, 108, 109, 110, 111, 112, 113, 115, 117,\n",
       "       118, 119, 120, 121, 123, 126, 129, 130, 134, 135, 140, 145, 146,\n",
       "       147, 148, 150, 154, 162, 170, 171, 172, 174, 175, 180, 185, 186,\n",
       "       187, 188, 192, 193, 194, 195, 196, 197, 198, 200, 201, 205, 206,\n",
       "       207, 208, 209, 210, 211, 212, 213, 214, 215, 216, 220, 230, 231,\n",
       "       233, 235, 237, 240, 241, 244, 245, 246, 247, 250, 256, 257, 258,\n",
       "       270, 271, 278, 280, 285], dtype=int64)"
      ]
     },
     "execution_count": 9,
     "metadata": {},
     "output_type": "execute_result"
    }
   ],
   "source": [
    "data.time.unique()"
   ]
  },
  {
   "cell_type": "markdown",
   "metadata": {},
   "source": [
    "Let's change the date column which indicates the number of days between medical inspection for the patients. Let's rescale this data to weeks (starting from once a month)."
   ]
  },
  {
   "cell_type": "code",
   "execution_count": 10,
   "metadata": {},
   "outputs": [
    {
     "data": {
      "text/html": [
       "<div>\n",
       "<style scoped>\n",
       "    .dataframe tbody tr th:only-of-type {\n",
       "        vertical-align: middle;\n",
       "    }\n",
       "\n",
       "    .dataframe tbody tr th {\n",
       "        vertical-align: top;\n",
       "    }\n",
       "\n",
       "    .dataframe thead th {\n",
       "        text-align: right;\n",
       "    }\n",
       "</style>\n",
       "<table border=\"1\" class=\"dataframe\">\n",
       "  <thead>\n",
       "    <tr style=\"text-align: right;\">\n",
       "      <th></th>\n",
       "      <th>age</th>\n",
       "      <th>anaemia</th>\n",
       "      <th>creatinine_phosphokinase</th>\n",
       "      <th>diabetes</th>\n",
       "      <th>ejection_fraction</th>\n",
       "      <th>high_blood_pressure</th>\n",
       "      <th>platelets</th>\n",
       "      <th>serum_creatinine</th>\n",
       "      <th>serum_sodium</th>\n",
       "      <th>sex</th>\n",
       "      <th>smoking</th>\n",
       "      <th>time</th>\n",
       "      <th>DEATH_EVENT</th>\n",
       "    </tr>\n",
       "  </thead>\n",
       "  <tbody>\n",
       "    <tr>\n",
       "      <th>0</th>\n",
       "      <td>75</td>\n",
       "      <td>0</td>\n",
       "      <td>582</td>\n",
       "      <td>0</td>\n",
       "      <td>20</td>\n",
       "      <td>1</td>\n",
       "      <td>265</td>\n",
       "      <td>1.9</td>\n",
       "      <td>130</td>\n",
       "      <td>1</td>\n",
       "      <td>0</td>\n",
       "      <td>1</td>\n",
       "      <td>1</td>\n",
       "    </tr>\n",
       "    <tr>\n",
       "      <th>1</th>\n",
       "      <td>55</td>\n",
       "      <td>0</td>\n",
       "      <td>7861</td>\n",
       "      <td>0</td>\n",
       "      <td>38</td>\n",
       "      <td>0</td>\n",
       "      <td>263</td>\n",
       "      <td>1.1</td>\n",
       "      <td>136</td>\n",
       "      <td>1</td>\n",
       "      <td>0</td>\n",
       "      <td>1</td>\n",
       "      <td>1</td>\n",
       "    </tr>\n",
       "    <tr>\n",
       "      <th>2</th>\n",
       "      <td>65</td>\n",
       "      <td>0</td>\n",
       "      <td>146</td>\n",
       "      <td>0</td>\n",
       "      <td>20</td>\n",
       "      <td>0</td>\n",
       "      <td>162</td>\n",
       "      <td>1.3</td>\n",
       "      <td>129</td>\n",
       "      <td>1</td>\n",
       "      <td>1</td>\n",
       "      <td>1</td>\n",
       "      <td>1</td>\n",
       "    </tr>\n",
       "    <tr>\n",
       "      <th>3</th>\n",
       "      <td>50</td>\n",
       "      <td>1</td>\n",
       "      <td>111</td>\n",
       "      <td>0</td>\n",
       "      <td>20</td>\n",
       "      <td>0</td>\n",
       "      <td>210</td>\n",
       "      <td>1.9</td>\n",
       "      <td>137</td>\n",
       "      <td>1</td>\n",
       "      <td>0</td>\n",
       "      <td>1</td>\n",
       "      <td>1</td>\n",
       "    </tr>\n",
       "    <tr>\n",
       "      <th>4</th>\n",
       "      <td>65</td>\n",
       "      <td>1</td>\n",
       "      <td>160</td>\n",
       "      <td>1</td>\n",
       "      <td>20</td>\n",
       "      <td>0</td>\n",
       "      <td>327</td>\n",
       "      <td>2.7</td>\n",
       "      <td>116</td>\n",
       "      <td>0</td>\n",
       "      <td>0</td>\n",
       "      <td>2</td>\n",
       "      <td>1</td>\n",
       "    </tr>\n",
       "    <tr>\n",
       "      <th>...</th>\n",
       "      <td>...</td>\n",
       "      <td>...</td>\n",
       "      <td>...</td>\n",
       "      <td>...</td>\n",
       "      <td>...</td>\n",
       "      <td>...</td>\n",
       "      <td>...</td>\n",
       "      <td>...</td>\n",
       "      <td>...</td>\n",
       "      <td>...</td>\n",
       "      <td>...</td>\n",
       "      <td>...</td>\n",
       "      <td>...</td>\n",
       "    </tr>\n",
       "    <tr>\n",
       "      <th>294</th>\n",
       "      <td>62</td>\n",
       "      <td>0</td>\n",
       "      <td>61</td>\n",
       "      <td>1</td>\n",
       "      <td>38</td>\n",
       "      <td>1</td>\n",
       "      <td>155</td>\n",
       "      <td>1.1</td>\n",
       "      <td>143</td>\n",
       "      <td>1</td>\n",
       "      <td>1</td>\n",
       "      <td>39</td>\n",
       "      <td>0</td>\n",
       "    </tr>\n",
       "    <tr>\n",
       "      <th>295</th>\n",
       "      <td>55</td>\n",
       "      <td>0</td>\n",
       "      <td>1820</td>\n",
       "      <td>0</td>\n",
       "      <td>38</td>\n",
       "      <td>0</td>\n",
       "      <td>270</td>\n",
       "      <td>1.2</td>\n",
       "      <td>139</td>\n",
       "      <td>0</td>\n",
       "      <td>0</td>\n",
       "      <td>39</td>\n",
       "      <td>0</td>\n",
       "    </tr>\n",
       "    <tr>\n",
       "      <th>296</th>\n",
       "      <td>45</td>\n",
       "      <td>0</td>\n",
       "      <td>2060</td>\n",
       "      <td>1</td>\n",
       "      <td>60</td>\n",
       "      <td>0</td>\n",
       "      <td>742</td>\n",
       "      <td>0.8</td>\n",
       "      <td>138</td>\n",
       "      <td>0</td>\n",
       "      <td>0</td>\n",
       "      <td>40</td>\n",
       "      <td>0</td>\n",
       "    </tr>\n",
       "    <tr>\n",
       "      <th>297</th>\n",
       "      <td>45</td>\n",
       "      <td>0</td>\n",
       "      <td>2413</td>\n",
       "      <td>0</td>\n",
       "      <td>38</td>\n",
       "      <td>0</td>\n",
       "      <td>140</td>\n",
       "      <td>1.4</td>\n",
       "      <td>140</td>\n",
       "      <td>1</td>\n",
       "      <td>1</td>\n",
       "      <td>40</td>\n",
       "      <td>0</td>\n",
       "    </tr>\n",
       "    <tr>\n",
       "      <th>298</th>\n",
       "      <td>50</td>\n",
       "      <td>0</td>\n",
       "      <td>196</td>\n",
       "      <td>0</td>\n",
       "      <td>45</td>\n",
       "      <td>0</td>\n",
       "      <td>395</td>\n",
       "      <td>1.6</td>\n",
       "      <td>136</td>\n",
       "      <td>1</td>\n",
       "      <td>1</td>\n",
       "      <td>41</td>\n",
       "      <td>0</td>\n",
       "    </tr>\n",
       "  </tbody>\n",
       "</table>\n",
       "<p>299 rows × 13 columns</p>\n",
       "</div>"
      ],
      "text/plain": [
       "     age  anaemia  creatinine_phosphokinase  diabetes  ejection_fraction  \\\n",
       "0     75        0                       582         0                 20   \n",
       "1     55        0                      7861         0                 38   \n",
       "2     65        0                       146         0                 20   \n",
       "3     50        1                       111         0                 20   \n",
       "4     65        1                       160         1                 20   \n",
       "..   ...      ...                       ...       ...                ...   \n",
       "294   62        0                        61         1                 38   \n",
       "295   55        0                      1820         0                 38   \n",
       "296   45        0                      2060         1                 60   \n",
       "297   45        0                      2413         0                 38   \n",
       "298   50        0                       196         0                 45   \n",
       "\n",
       "     high_blood_pressure  platelets  serum_creatinine  serum_sodium  sex  \\\n",
       "0                      1        265               1.9           130    1   \n",
       "1                      0        263               1.1           136    1   \n",
       "2                      0        162               1.3           129    1   \n",
       "3                      0        210               1.9           137    1   \n",
       "4                      0        327               2.7           116    0   \n",
       "..                   ...        ...               ...           ...  ...   \n",
       "294                    1        155               1.1           143    1   \n",
       "295                    0        270               1.2           139    0   \n",
       "296                    0        742               0.8           138    0   \n",
       "297                    0        140               1.4           140    1   \n",
       "298                    0        395               1.6           136    1   \n",
       "\n",
       "     smoking  time  DEATH_EVENT  \n",
       "0          0     1            1  \n",
       "1          0     1            1  \n",
       "2          1     1            1  \n",
       "3          0     1            1  \n",
       "4          0     2            1  \n",
       "..       ...   ...          ...  \n",
       "294        1    39            0  \n",
       "295        0    39            0  \n",
       "296        0    40            0  \n",
       "297        1    40            0  \n",
       "298        1    41            0  \n",
       "\n",
       "[299 rows x 13 columns]"
      ]
     },
     "execution_count": 10,
     "metadata": {},
     "output_type": "execute_result"
    }
   ],
   "source": [
    "data.time = np.ceil(data.time / 7).astype(\"int64\")\n",
    "data.time.unique()\n",
    "data"
   ]
  },
  {
   "cell_type": "markdown",
   "metadata": {},
   "source": [
    "## Remove columns"
   ]
  },
  {
   "cell_type": "markdown",
   "metadata": {},
   "source": [
    "Finally, let's check the binrary columns are actually binary (anemia, diabetes, high blood plessure, sex, smoking)"
   ]
  },
  {
   "cell_type": "code",
   "execution_count": 11,
   "metadata": {},
   "outputs": [
    {
     "data": {
      "text/plain": [
       "age                           int64\n",
       "anaemia                        bool\n",
       "creatinine_phosphokinase      int64\n",
       "diabetes                       bool\n",
       "ejection_fraction             int64\n",
       "high_blood_pressure            bool\n",
       "platelets                     int64\n",
       "serum_creatinine            float64\n",
       "serum_sodium                  int64\n",
       "sex                            bool\n",
       "smoking                        bool\n",
       "time                          int64\n",
       "DEATH_EVENT                    bool\n",
       "dtype: object"
      ]
     },
     "execution_count": 11,
     "metadata": {},
     "output_type": "execute_result"
    }
   ],
   "source": [
    "data.anaemia = data.anaemia.astype(\"bool\")\n",
    "data.diabetes = data.diabetes.astype(\"bool\")\n",
    "data.high_blood_pressure = data.high_blood_pressure.astype(\"bool\")\n",
    "data.sex = data.sex.astype(\"bool\")\n",
    "data.smoking = data.smoking.astype(\"bool\")\n",
    "data.DEATH_EVENT = data.DEATH_EVENT.astype(\"bool\")\n",
    "data.dtypes"
   ]
  },
  {
   "cell_type": "markdown",
   "metadata": {},
   "source": [
    "Let's try removing columns that have low correlation to the DEATH_EVNET value:"
   ]
  },
  {
   "cell_type": "code",
   "execution_count": 12,
   "metadata": {
    "tags": []
   },
   "outputs": [
    {
     "name": "stdout",
     "output_type": "stream",
     "text": [
      "Correlation to 'WAU' value:\n",
      "DEATH_EVENT                 1.000000\n",
      "time                       -0.526917\n",
      "serum_creatinine            0.294278\n",
      "ejection_fraction          -0.268603\n",
      "age                         0.253581\n",
      "serum_sodium               -0.195204\n",
      "high_blood_pressure         0.079351\n",
      "anaemia                     0.066270\n",
      "creatinine_phosphokinase    0.062728\n",
      "platelets                  -0.049188\n",
      "smoking                    -0.012623\n",
      "sex                        -0.004316\n",
      "diabetes                   -0.001943\n",
      "Name: DEATH_EVENT, dtype: float64\n"
     ]
    },
    {
     "data": {
      "text/plain": [
       "[Text(0.5, 0, 'age'),\n",
       " Text(1.5, 0, 'anaemia'),\n",
       " Text(2.5, 0, 'creatinine_phosphokinase'),\n",
       " Text(3.5, 0, 'diabetes'),\n",
       " Text(4.5, 0, 'ejection_fraction'),\n",
       " Text(5.5, 0, 'high_blood_pressure'),\n",
       " Text(6.5, 0, 'platelets'),\n",
       " Text(7.5, 0, 'serum_creatinine'),\n",
       " Text(8.5, 0, 'serum_sodium'),\n",
       " Text(9.5, 0, 'sex'),\n",
       " Text(10.5, 0, 'smoking'),\n",
       " Text(11.5, 0, 'time'),\n",
       " Text(12.5, 0, 'DEATH_EVENT')]"
      ]
     },
     "execution_count": 12,
     "metadata": {},
     "output_type": "execute_result"
    },
    {
     "data": {
      "image/png": "[encoded data removed]",
      "text/plain": [
       "<Figure size 432x288 with 2 Axes>"
      ]
     },
     "metadata": {
      "needs_background": "light"
     },
     "output_type": "display_data"
    }
   ],
   "source": [
    "import seaborn as sns\n",
    "\n",
    "corr = data.corr().sort_values(ascending=False, key=lambda x: abs(x), by=\"DEATH_EVENT\")\n",
    "\n",
    "print(\"Correlation to 'WAU' value:\")\n",
    "print (corr[\"DEATH_EVENT\"])\n",
    "\n",
    "ax = sns.heatmap(\n",
    "    corr, \n",
    "    vmin=-1, vmax=1, center=0,\n",
    "    cmap=sns.diverging_palette(20, 220, n=200),\n",
    "    square=True,\n",
    ")\n",
    "ax.set_xticklabels(\n",
    "    ax.get_xticklabels(),\n",
    "    rotation=45,\n",
    "    horizontalalignment='right'\n",
    ")"
   ]
  },
  {
   "cell_type": "markdown",
   "metadata": {},
   "source": [
    "Seems like \"diabetes\", \"sex\", and \"smoking\" have low correlation to the DEATH_EVENT value. Let's drop them:"
   ]
  },
  {
   "cell_type": "code",
   "execution_count": 13,
   "metadata": {},
   "outputs": [],
   "source": [
    "data = data.drop(columns=[\"sex\", \"diabetes\", \"smoking\"])"
   ]
  },
  {
   "cell_type": "code",
   "execution_count": 14,
   "metadata": {},
   "outputs": [
    {
     "data": {
      "text/html": [
       "<div>\n",
       "<style scoped>\n",
       "    .dataframe tbody tr th:only-of-type {\n",
       "        vertical-align: middle;\n",
       "    }\n",
       "\n",
       "    .dataframe tbody tr th {\n",
       "        vertical-align: top;\n",
       "    }\n",
       "\n",
       "    .dataframe thead th {\n",
       "        text-align: right;\n",
       "    }\n",
       "</style>\n",
       "<table border=\"1\" class=\"dataframe\">\n",
       "  <thead>\n",
       "    <tr style=\"text-align: right;\">\n",
       "      <th></th>\n",
       "      <th>age</th>\n",
       "      <th>anaemia</th>\n",
       "      <th>creatinine_phosphokinase</th>\n",
       "      <th>ejection_fraction</th>\n",
       "      <th>high_blood_pressure</th>\n",
       "      <th>platelets</th>\n",
       "      <th>serum_creatinine</th>\n",
       "      <th>serum_sodium</th>\n",
       "      <th>time</th>\n",
       "      <th>DEATH_EVENT</th>\n",
       "    </tr>\n",
       "  </thead>\n",
       "  <tbody>\n",
       "    <tr>\n",
       "      <th>0</th>\n",
       "      <td>75</td>\n",
       "      <td>False</td>\n",
       "      <td>582</td>\n",
       "      <td>20</td>\n",
       "      <td>True</td>\n",
       "      <td>265</td>\n",
       "      <td>1.9</td>\n",
       "      <td>130</td>\n",
       "      <td>1</td>\n",
       "      <td>True</td>\n",
       "    </tr>\n",
       "    <tr>\n",
       "      <th>1</th>\n",
       "      <td>55</td>\n",
       "      <td>False</td>\n",
       "      <td>7861</td>\n",
       "      <td>38</td>\n",
       "      <td>False</td>\n",
       "      <td>263</td>\n",
       "      <td>1.1</td>\n",
       "      <td>136</td>\n",
       "      <td>1</td>\n",
       "      <td>True</td>\n",
       "    </tr>\n",
       "    <tr>\n",
       "      <th>2</th>\n",
       "      <td>65</td>\n",
       "      <td>False</td>\n",
       "      <td>146</td>\n",
       "      <td>20</td>\n",
       "      <td>False</td>\n",
       "      <td>162</td>\n",
       "      <td>1.3</td>\n",
       "      <td>129</td>\n",
       "      <td>1</td>\n",
       "      <td>True</td>\n",
       "    </tr>\n",
       "    <tr>\n",
       "      <th>3</th>\n",
       "      <td>50</td>\n",
       "      <td>True</td>\n",
       "      <td>111</td>\n",
       "      <td>20</td>\n",
       "      <td>False</td>\n",
       "      <td>210</td>\n",
       "      <td>1.9</td>\n",
       "      <td>137</td>\n",
       "      <td>1</td>\n",
       "      <td>True</td>\n",
       "    </tr>\n",
       "    <tr>\n",
       "      <th>4</th>\n",
       "      <td>65</td>\n",
       "      <td>True</td>\n",
       "      <td>160</td>\n",
       "      <td>20</td>\n",
       "      <td>False</td>\n",
       "      <td>327</td>\n",
       "      <td>2.7</td>\n",
       "      <td>116</td>\n",
       "      <td>2</td>\n",
       "      <td>True</td>\n",
       "    </tr>\n",
       "  </tbody>\n",
       "</table>\n",
       "</div>"
      ],
      "text/plain": [
       "   age  anaemia  creatinine_phosphokinase  ejection_fraction  \\\n",
       "0   75    False                       582                 20   \n",
       "1   55    False                      7861                 38   \n",
       "2   65    False                       146                 20   \n",
       "3   50     True                       111                 20   \n",
       "4   65     True                       160                 20   \n",
       "\n",
       "   high_blood_pressure  platelets  serum_creatinine  serum_sodium  time  \\\n",
       "0                 True        265               1.9           130     1   \n",
       "1                False        263               1.1           136     1   \n",
       "2                False        162               1.3           129     1   \n",
       "3                False        210               1.9           137     1   \n",
       "4                False        327               2.7           116     2   \n",
       "\n",
       "   DEATH_EVENT  \n",
       "0         True  \n",
       "1         True  \n",
       "2         True  \n",
       "3         True  \n",
       "4         True  "
      ]
     },
     "execution_count": 14,
     "metadata": {},
     "output_type": "execute_result"
    }
   ],
   "source": [
    "data.head()"
   ]
  },
  {
   "cell_type": "markdown",
   "metadata": {},
   "source": [
    "## Remove outliers"
   ]
  },
  {
   "cell_type": "code",
   "execution_count": 15,
   "metadata": {},
   "outputs": [
    {
     "data": {
      "text/html": [
       "<div>\n",
       "<style scoped>\n",
       "    .dataframe tbody tr th:only-of-type {\n",
       "        vertical-align: middle;\n",
       "    }\n",
       "\n",
       "    .dataframe tbody tr th {\n",
       "        vertical-align: top;\n",
       "    }\n",
       "\n",
       "    .dataframe thead th {\n",
       "        text-align: right;\n",
       "    }\n",
       "</style>\n",
       "<table border=\"1\" class=\"dataframe\">\n",
       "  <thead>\n",
       "    <tr style=\"text-align: right;\">\n",
       "      <th></th>\n",
       "      <th>age</th>\n",
       "      <th>anaemia</th>\n",
       "      <th>creatinine_phosphokinase</th>\n",
       "      <th>ejection_fraction</th>\n",
       "      <th>high_blood_pressure</th>\n",
       "      <th>platelets</th>\n",
       "      <th>serum_creatinine</th>\n",
       "      <th>serum_sodium</th>\n",
       "      <th>time</th>\n",
       "      <th>DEATH_EVENT</th>\n",
       "    </tr>\n",
       "  </thead>\n",
       "  <tbody>\n",
       "    <tr>\n",
       "      <th>count</th>\n",
       "      <td>299.000000</td>\n",
       "      <td>299</td>\n",
       "      <td>299.000000</td>\n",
       "      <td>299.000000</td>\n",
       "      <td>299</td>\n",
       "      <td>299.000000</td>\n",
       "      <td>299.00000</td>\n",
       "      <td>299.000000</td>\n",
       "      <td>299.000000</td>\n",
       "      <td>299</td>\n",
       "    </tr>\n",
       "    <tr>\n",
       "      <th>unique</th>\n",
       "      <td>NaN</td>\n",
       "      <td>2</td>\n",
       "      <td>NaN</td>\n",
       "      <td>NaN</td>\n",
       "      <td>2</td>\n",
       "      <td>NaN</td>\n",
       "      <td>NaN</td>\n",
       "      <td>NaN</td>\n",
       "      <td>NaN</td>\n",
       "      <td>2</td>\n",
       "    </tr>\n",
       "    <tr>\n",
       "      <th>top</th>\n",
       "      <td>NaN</td>\n",
       "      <td>False</td>\n",
       "      <td>NaN</td>\n",
       "      <td>NaN</td>\n",
       "      <td>False</td>\n",
       "      <td>NaN</td>\n",
       "      <td>NaN</td>\n",
       "      <td>NaN</td>\n",
       "      <td>NaN</td>\n",
       "      <td>False</td>\n",
       "    </tr>\n",
       "    <tr>\n",
       "      <th>freq</th>\n",
       "      <td>NaN</td>\n",
       "      <td>170</td>\n",
       "      <td>NaN</td>\n",
       "      <td>NaN</td>\n",
       "      <td>194</td>\n",
       "      <td>NaN</td>\n",
       "      <td>NaN</td>\n",
       "      <td>NaN</td>\n",
       "      <td>NaN</td>\n",
       "      <td>203</td>\n",
       "    </tr>\n",
       "    <tr>\n",
       "      <th>mean</th>\n",
       "      <td>60.829431</td>\n",
       "      <td>NaN</td>\n",
       "      <td>581.839465</td>\n",
       "      <td>38.083612</td>\n",
       "      <td>NaN</td>\n",
       "      <td>263.327759</td>\n",
       "      <td>1.39388</td>\n",
       "      <td>136.625418</td>\n",
       "      <td>19.026756</td>\n",
       "      <td>NaN</td>\n",
       "    </tr>\n",
       "    <tr>\n",
       "      <th>std</th>\n",
       "      <td>11.894997</td>\n",
       "      <td>NaN</td>\n",
       "      <td>970.287881</td>\n",
       "      <td>11.834841</td>\n",
       "      <td>NaN</td>\n",
       "      <td>97.805105</td>\n",
       "      <td>1.03451</td>\n",
       "      <td>4.412477</td>\n",
       "      <td>11.038035</td>\n",
       "      <td>NaN</td>\n",
       "    </tr>\n",
       "    <tr>\n",
       "      <th>min</th>\n",
       "      <td>40.000000</td>\n",
       "      <td>NaN</td>\n",
       "      <td>23.000000</td>\n",
       "      <td>14.000000</td>\n",
       "      <td>NaN</td>\n",
       "      <td>25.000000</td>\n",
       "      <td>0.50000</td>\n",
       "      <td>113.000000</td>\n",
       "      <td>1.000000</td>\n",
       "      <td>NaN</td>\n",
       "    </tr>\n",
       "    <tr>\n",
       "      <th>25%</th>\n",
       "      <td>51.000000</td>\n",
       "      <td>NaN</td>\n",
       "      <td>116.500000</td>\n",
       "      <td>30.000000</td>\n",
       "      <td>NaN</td>\n",
       "      <td>212.500000</td>\n",
       "      <td>0.90000</td>\n",
       "      <td>134.000000</td>\n",
       "      <td>11.000000</td>\n",
       "      <td>NaN</td>\n",
       "    </tr>\n",
       "    <tr>\n",
       "      <th>50%</th>\n",
       "      <td>60.000000</td>\n",
       "      <td>NaN</td>\n",
       "      <td>250.000000</td>\n",
       "      <td>38.000000</td>\n",
       "      <td>NaN</td>\n",
       "      <td>262.000000</td>\n",
       "      <td>1.10000</td>\n",
       "      <td>137.000000</td>\n",
       "      <td>17.000000</td>\n",
       "      <td>NaN</td>\n",
       "    </tr>\n",
       "    <tr>\n",
       "      <th>75%</th>\n",
       "      <td>70.000000</td>\n",
       "      <td>NaN</td>\n",
       "      <td>582.000000</td>\n",
       "      <td>45.000000</td>\n",
       "      <td>NaN</td>\n",
       "      <td>303.500000</td>\n",
       "      <td>1.40000</td>\n",
       "      <td>140.000000</td>\n",
       "      <td>29.500000</td>\n",
       "      <td>NaN</td>\n",
       "    </tr>\n",
       "    <tr>\n",
       "      <th>max</th>\n",
       "      <td>95.000000</td>\n",
       "      <td>NaN</td>\n",
       "      <td>7861.000000</td>\n",
       "      <td>80.000000</td>\n",
       "      <td>NaN</td>\n",
       "      <td>850.000000</td>\n",
       "      <td>9.40000</td>\n",
       "      <td>148.000000</td>\n",
       "      <td>41.000000</td>\n",
       "      <td>NaN</td>\n",
       "    </tr>\n",
       "  </tbody>\n",
       "</table>\n",
       "</div>"
      ],
      "text/plain": [
       "               age anaemia  creatinine_phosphokinase  ejection_fraction  \\\n",
       "count   299.000000     299                299.000000         299.000000   \n",
       "unique         NaN       2                       NaN                NaN   \n",
       "top            NaN   False                       NaN                NaN   \n",
       "freq           NaN     170                       NaN                NaN   \n",
       "mean     60.829431     NaN                581.839465          38.083612   \n",
       "std      11.894997     NaN                970.287881          11.834841   \n",
       "min      40.000000     NaN                 23.000000          14.000000   \n",
       "25%      51.000000     NaN                116.500000          30.000000   \n",
       "50%      60.000000     NaN                250.000000          38.000000   \n",
       "75%      70.000000     NaN                582.000000          45.000000   \n",
       "max      95.000000     NaN               7861.000000          80.000000   \n",
       "\n",
       "       high_blood_pressure   platelets  serum_creatinine  serum_sodium  \\\n",
       "count                  299  299.000000         299.00000    299.000000   \n",
       "unique                   2         NaN               NaN           NaN   \n",
       "top                  False         NaN               NaN           NaN   \n",
       "freq                   194         NaN               NaN           NaN   \n",
       "mean                   NaN  263.327759           1.39388    136.625418   \n",
       "std                    NaN   97.805105           1.03451      4.412477   \n",
       "min                    NaN   25.000000           0.50000    113.000000   \n",
       "25%                    NaN  212.500000           0.90000    134.000000   \n",
       "50%                    NaN  262.000000           1.10000    137.000000   \n",
       "75%                    NaN  303.500000           1.40000    140.000000   \n",
       "max                    NaN  850.000000           9.40000    148.000000   \n",
       "\n",
       "              time DEATH_EVENT  \n",
       "count   299.000000         299  \n",
       "unique         NaN           2  \n",
       "top            NaN       False  \n",
       "freq           NaN         203  \n",
       "mean     19.026756         NaN  \n",
       "std      11.038035         NaN  \n",
       "min       1.000000         NaN  \n",
       "25%      11.000000         NaN  \n",
       "50%      17.000000         NaN  \n",
       "75%      29.500000         NaN  \n",
       "max      41.000000         NaN  "
      ]
     },
     "execution_count": 15,
     "metadata": {},
     "output_type": "execute_result"
    }
   ],
   "source": [
    "data.describe(include=\"all\")"
   ]
  },
  {
   "cell_type": "markdown",
   "metadata": {},
   "source": [
    "### Ejection Fraction"
   ]
  },
  {
   "cell_type": "markdown",
   "metadata": {},
   "source": [
    "Let's start with the \"ejection_fraction\" column:"
   ]
  },
  {
   "cell_type": "code",
   "execution_count": 16,
   "metadata": {},
   "outputs": [
    {
     "data": {
      "text/plain": [
       "<AxesSubplot:xlabel='ejection_fraction'>"
      ]
     },
     "execution_count": 16,
     "metadata": {},
     "output_type": "execute_result"
    },
    {
     "data": {
      "image/png": "[encoded data removed]",
      "text/plain": [
       "<Figure size 432x288 with 1 Axes>"
      ]
     },
     "metadata": {
      "needs_background": "light"
     },
     "output_type": "display_data"
    }
   ],
   "source": [
    "sns.boxplot(x = data.ejection_fraction, color = 'teal')"
   ]
  },
  {
   "cell_type": "markdown",
   "metadata": {},
   "source": [
    "Seems like we have two outliers: 70, 80. Let's remove them:"
   ]
  },
  {
   "cell_type": "code",
   "execution_count": 17,
   "metadata": {},
   "outputs": [
    {
     "data": {
      "text/plain": [
       "<AxesSubplot:xlabel='ejection_fraction'>"
      ]
     },
     "execution_count": 17,
     "metadata": {},
     "output_type": "execute_result"
    },
    {
     "data": {
      "image/png": "[encoded data removed]",
      "text/plain": [
       "<Figure size 432x288 with 1 Axes>"
      ]
     },
     "metadata": {
      "needs_background": "light"
     },
     "output_type": "display_data"
    }
   ],
   "source": [
    "data = data.drop(data[data.ejection_fraction >= 70].index)\n",
    "sns.boxplot(x = data.ejection_fraction, color = 'teal')"
   ]
  },
  {
   "cell_type": "markdown",
   "metadata": {},
   "source": [
    "### Platelets"
   ]
  },
  {
   "cell_type": "code",
   "execution_count": 18,
   "metadata": {},
   "outputs": [
    {
     "data": {
      "text/plain": [
       "<AxesSubplot:xlabel='platelets'>"
      ]
     },
     "execution_count": 18,
     "metadata": {},
     "output_type": "execute_result"
    },
    {
     "data": {
      "image/png": "[encoded data removed]",
      "text/plain": [
       "<Figure size 432x288 with 1 Axes>"
      ]
     },
     "metadata": {
      "needs_background": "light"
     },
     "output_type": "display_data"
    }
   ],
   "source": [
    "sns.boxplot(x = data.platelets, color = 'teal')"
   ]
  },
  {
   "cell_type": "markdown",
   "metadata": {},
   "source": [
    "Seems line we have lots of outliers: values below 100 kiloplatelets/mL or higher than ~400 kiloplatelets/mL. Normal platelets levels are 150-450 kiloplatelets/mL, while a value lower than 10 is considered extremely low and above 450 is considered very high. Seems like removing that value higher than 650 would be a good choice (two outliers)."
   ]
  },
  {
   "cell_type": "code",
   "execution_count": 19,
   "metadata": {},
   "outputs": [
    {
     "data": {
      "text/html": [
       "<div>\n",
       "<style scoped>\n",
       "    .dataframe tbody tr th:only-of-type {\n",
       "        vertical-align: middle;\n",
       "    }\n",
       "\n",
       "    .dataframe tbody tr th {\n",
       "        vertical-align: top;\n",
       "    }\n",
       "\n",
       "    .dataframe thead th {\n",
       "        text-align: right;\n",
       "    }\n",
       "</style>\n",
       "<table border=\"1\" class=\"dataframe\">\n",
       "  <thead>\n",
       "    <tr style=\"text-align: right;\">\n",
       "      <th></th>\n",
       "      <th>age</th>\n",
       "      <th>anaemia</th>\n",
       "      <th>creatinine_phosphokinase</th>\n",
       "      <th>ejection_fraction</th>\n",
       "      <th>high_blood_pressure</th>\n",
       "      <th>platelets</th>\n",
       "      <th>serum_creatinine</th>\n",
       "      <th>serum_sodium</th>\n",
       "      <th>time</th>\n",
       "      <th>DEATH_EVENT</th>\n",
       "    </tr>\n",
       "  </thead>\n",
       "  <tbody>\n",
       "    <tr>\n",
       "      <th>109</th>\n",
       "      <td>45</td>\n",
       "      <td>False</td>\n",
       "      <td>292</td>\n",
       "      <td>35</td>\n",
       "      <td>False</td>\n",
       "      <td>850</td>\n",
       "      <td>1.3</td>\n",
       "      <td>142</td>\n",
       "      <td>13</td>\n",
       "      <td>False</td>\n",
       "    </tr>\n",
       "    <tr>\n",
       "      <th>296</th>\n",
       "      <td>45</td>\n",
       "      <td>False</td>\n",
       "      <td>2060</td>\n",
       "      <td>60</td>\n",
       "      <td>False</td>\n",
       "      <td>742</td>\n",
       "      <td>0.8</td>\n",
       "      <td>138</td>\n",
       "      <td>40</td>\n",
       "      <td>False</td>\n",
       "    </tr>\n",
       "  </tbody>\n",
       "</table>\n",
       "</div>"
      ],
      "text/plain": [
       "     age  anaemia  creatinine_phosphokinase  ejection_fraction  \\\n",
       "109   45    False                       292                 35   \n",
       "296   45    False                      2060                 60   \n",
       "\n",
       "     high_blood_pressure  platelets  serum_creatinine  serum_sodium  time  \\\n",
       "109                False        850               1.3           142    13   \n",
       "296                False        742               0.8           138    40   \n",
       "\n",
       "     DEATH_EVENT  \n",
       "109        False  \n",
       "296        False  "
      ]
     },
     "execution_count": 19,
     "metadata": {},
     "output_type": "execute_result"
    }
   ],
   "source": [
    "data[data.platelets > 650]"
   ]
  },
  {
   "cell_type": "code",
   "execution_count": 20,
   "metadata": {},
   "outputs": [
    {
     "data": {
      "text/plain": [
       "<AxesSubplot:xlabel='platelets'>"
      ]
     },
     "execution_count": 20,
     "metadata": {},
     "output_type": "execute_result"
    },
    {
     "data": {
      "image/png": "[encoded data removed]",
      "text/plain": [
       "<Figure size 432x288 with 1 Axes>"
      ]
     },
     "metadata": {
      "needs_background": "light"
     },
     "output_type": "display_data"
    }
   ],
   "source": [
    "data = data.drop(data[data.platelets >= 650].index)\n",
    "sns.boxplot(x = data.platelets, color = 'teal')"
   ]
  },
  {
   "cell_type": "markdown",
   "metadata": {},
   "source": [
    "### Serum Sodium"
   ]
  },
  {
   "cell_type": "code",
   "execution_count": 21,
   "metadata": {},
   "outputs": [
    {
     "data": {
      "text/plain": [
       "<AxesSubplot:xlabel='serum_sodium'>"
      ]
     },
     "execution_count": 21,
     "metadata": {},
     "output_type": "execute_result"
    },
    {
     "data": {
      "image/png": "[encoded data removed]",
      "text/plain": [
       "<Figure size 432x288 with 1 Axes>"
      ]
     },
     "metadata": {
      "needs_background": "light"
     },
     "output_type": "display_data"
    }
   ],
   "source": [
    "sns.boxplot(x = data.serum_sodium, color = 'teal')"
   ]
  },
  {
   "cell_type": "markdown",
   "metadata": {},
   "source": [
    "Normal values of serum sodium are 135-145 mEq/L, while values lower than 125 indicates severe Hyponatremia. Values under 120 would probably be outliers. Let's remove them:"
   ]
  },
  {
   "cell_type": "code",
   "execution_count": 22,
   "metadata": {},
   "outputs": [
    {
     "data": {
      "text/html": [
       "<div>\n",
       "<style scoped>\n",
       "    .dataframe tbody tr th:only-of-type {\n",
       "        vertical-align: middle;\n",
       "    }\n",
       "\n",
       "    .dataframe tbody tr th {\n",
       "        vertical-align: top;\n",
       "    }\n",
       "\n",
       "    .dataframe thead th {\n",
       "        text-align: right;\n",
       "    }\n",
       "</style>\n",
       "<table border=\"1\" class=\"dataframe\">\n",
       "  <thead>\n",
       "    <tr style=\"text-align: right;\">\n",
       "      <th></th>\n",
       "      <th>age</th>\n",
       "      <th>anaemia</th>\n",
       "      <th>creatinine_phosphokinase</th>\n",
       "      <th>ejection_fraction</th>\n",
       "      <th>high_blood_pressure</th>\n",
       "      <th>platelets</th>\n",
       "      <th>serum_creatinine</th>\n",
       "      <th>serum_sodium</th>\n",
       "      <th>time</th>\n",
       "      <th>DEATH_EVENT</th>\n",
       "    </tr>\n",
       "  </thead>\n",
       "  <tbody>\n",
       "    <tr>\n",
       "      <th>4</th>\n",
       "      <td>65</td>\n",
       "      <td>True</td>\n",
       "      <td>160</td>\n",
       "      <td>20</td>\n",
       "      <td>False</td>\n",
       "      <td>327</td>\n",
       "      <td>2.7</td>\n",
       "      <td>116</td>\n",
       "      <td>2</td>\n",
       "      <td>True</td>\n",
       "    </tr>\n",
       "    <tr>\n",
       "      <th>199</th>\n",
       "      <td>60</td>\n",
       "      <td>False</td>\n",
       "      <td>1211</td>\n",
       "      <td>35</td>\n",
       "      <td>False</td>\n",
       "      <td>263</td>\n",
       "      <td>1.8</td>\n",
       "      <td>113</td>\n",
       "      <td>27</td>\n",
       "      <td>False</td>\n",
       "    </tr>\n",
       "  </tbody>\n",
       "</table>\n",
       "</div>"
      ],
      "text/plain": [
       "     age  anaemia  creatinine_phosphokinase  ejection_fraction  \\\n",
       "4     65     True                       160                 20   \n",
       "199   60    False                      1211                 35   \n",
       "\n",
       "     high_blood_pressure  platelets  serum_creatinine  serum_sodium  time  \\\n",
       "4                  False        327               2.7           116     2   \n",
       "199                False        263               1.8           113    27   \n",
       "\n",
       "     DEATH_EVENT  \n",
       "4           True  \n",
       "199        False  "
      ]
     },
     "execution_count": 22,
     "metadata": {},
     "output_type": "execute_result"
    }
   ],
   "source": [
    "data[data.serum_sodium < 120]"
   ]
  },
  {
   "cell_type": "code",
   "execution_count": 23,
   "metadata": {},
   "outputs": [
    {
     "data": {
      "text/plain": [
       "<AxesSubplot:xlabel='serum_sodium'>"
      ]
     },
     "execution_count": 23,
     "metadata": {},
     "output_type": "execute_result"
    },
    {
     "data": {
      "image/png": "[encoded data removed]",
      "text/plain": [
       "<Figure size 432x288 with 1 Axes>"
      ]
     },
     "metadata": {
      "needs_background": "light"
     },
     "output_type": "display_data"
    }
   ],
   "source": [
    "data = data.drop(data[data.serum_sodium < 120].index)\n",
    "sns.boxplot(x = data.serum_sodium, color = 'teal')"
   ]
  },
  {
   "cell_type": "markdown",
   "metadata": {},
   "source": [
    "### Serum Creatinine"
   ]
  },
  {
   "cell_type": "code",
   "execution_count": 24,
   "metadata": {},
   "outputs": [
    {
     "data": {
      "text/plain": [
       "<AxesSubplot:xlabel='serum_creatinine'>"
      ]
     },
     "execution_count": 24,
     "metadata": {},
     "output_type": "execute_result"
    },
    {
     "data": {
      "image/png": "[encoded data removed]",
      "text/plain": [
       "<Figure size 432x288 with 1 Axes>"
      ]
     },
     "metadata": {
      "needs_background": "light"
     },
     "output_type": "display_data"
    }
   ],
   "source": [
    "sns.boxplot(x = data.serum_creatinine, color = 'teal')"
   ]
  },
  {
   "cell_type": "markdown",
   "metadata": {},
   "source": [
    "Values higher than 5 indicate severe kidney damage, so logically seems that serum creatinine levels higher than 8 are extremely high values (possibly outliers). Looking at the data I decided to leave them, because patients having values higher than 8 died from heart failure and it is possible than the high value is caused by additional medical disorder that lead to their death. Removing these outliers can lead to loss of valuable data!"
   ]
  },
  {
   "cell_type": "code",
   "execution_count": 25,
   "metadata": {},
   "outputs": [
    {
     "data": {
      "text/html": [
       "<div>\n",
       "<style scoped>\n",
       "    .dataframe tbody tr th:only-of-type {\n",
       "        vertical-align: middle;\n",
       "    }\n",
       "\n",
       "    .dataframe tbody tr th {\n",
       "        vertical-align: top;\n",
       "    }\n",
       "\n",
       "    .dataframe thead th {\n",
       "        text-align: right;\n",
       "    }\n",
       "</style>\n",
       "<table border=\"1\" class=\"dataframe\">\n",
       "  <thead>\n",
       "    <tr style=\"text-align: right;\">\n",
       "      <th></th>\n",
       "      <th>age</th>\n",
       "      <th>anaemia</th>\n",
       "      <th>creatinine_phosphokinase</th>\n",
       "      <th>ejection_fraction</th>\n",
       "      <th>high_blood_pressure</th>\n",
       "      <th>platelets</th>\n",
       "      <th>serum_creatinine</th>\n",
       "      <th>serum_sodium</th>\n",
       "      <th>time</th>\n",
       "      <th>DEATH_EVENT</th>\n",
       "    </tr>\n",
       "  </thead>\n",
       "  <tbody>\n",
       "    <tr>\n",
       "      <th>9</th>\n",
       "      <td>80</td>\n",
       "      <td>True</td>\n",
       "      <td>123</td>\n",
       "      <td>35</td>\n",
       "      <td>True</td>\n",
       "      <td>388</td>\n",
       "      <td>9.4</td>\n",
       "      <td>133</td>\n",
       "      <td>2</td>\n",
       "      <td>True</td>\n",
       "    </tr>\n",
       "  </tbody>\n",
       "</table>\n",
       "</div>"
      ],
      "text/plain": [
       "   age  anaemia  creatinine_phosphokinase  ejection_fraction  \\\n",
       "9   80     True                       123                 35   \n",
       "\n",
       "   high_blood_pressure  platelets  serum_creatinine  serum_sodium  time  \\\n",
       "9                 True        388               9.4           133     2   \n",
       "\n",
       "   DEATH_EVENT  \n",
       "9         True  "
      ]
     },
     "execution_count": 25,
     "metadata": {},
     "output_type": "execute_result"
    }
   ],
   "source": [
    "data[data.serum_creatinine > 8]"
   ]
  },
  {
   "cell_type": "markdown",
   "metadata": {},
   "source": [
    "### Creatinine Phosphokinase"
   ]
  },
  {
   "cell_type": "code",
   "execution_count": 26,
   "metadata": {},
   "outputs": [
    {
     "data": {
      "text/plain": [
       "<AxesSubplot:xlabel='creatinine_phosphokinase'>"
      ]
     },
     "execution_count": 26,
     "metadata": {},
     "output_type": "execute_result"
    },
    {
     "data": {
      "image/png": "[encoded data removed]",
      "text/plain": [
       "<Figure size 432x288 with 1 Axes>"
      ]
     },
     "metadata": {
      "needs_background": "light"
     },
     "output_type": "display_data"
    }
   ],
   "source": [
    "sns.boxplot(x = data.creatinine_phosphokinase, color = 'teal')"
   ]
  },
  {
   "cell_type": "markdown",
   "metadata": {},
   "source": [
    "Seems like creatinine phosphokinase are petty high levels and might be outliers, but looking at the data again these extreme levels might have actually led to the death event. So I decided to leave the outliers."
   ]
  },
  {
   "cell_type": "code",
   "execution_count": 27,
   "metadata": {},
   "outputs": [
    {
     "data": {
      "text/html": [
       "<div>\n",
       "<style scoped>\n",
       "    .dataframe tbody tr th:only-of-type {\n",
       "        vertical-align: middle;\n",
       "    }\n",
       "\n",
       "    .dataframe tbody tr th {\n",
       "        vertical-align: top;\n",
       "    }\n",
       "\n",
       "    .dataframe thead th {\n",
       "        text-align: right;\n",
       "    }\n",
       "</style>\n",
       "<table border=\"1\" class=\"dataframe\">\n",
       "  <thead>\n",
       "    <tr style=\"text-align: right;\">\n",
       "      <th></th>\n",
       "      <th>age</th>\n",
       "      <th>anaemia</th>\n",
       "      <th>creatinine_phosphokinase</th>\n",
       "      <th>ejection_fraction</th>\n",
       "      <th>high_blood_pressure</th>\n",
       "      <th>platelets</th>\n",
       "      <th>serum_creatinine</th>\n",
       "      <th>serum_sodium</th>\n",
       "      <th>time</th>\n",
       "      <th>DEATH_EVENT</th>\n",
       "    </tr>\n",
       "  </thead>\n",
       "  <tbody>\n",
       "    <tr>\n",
       "      <th>1</th>\n",
       "      <td>55</td>\n",
       "      <td>False</td>\n",
       "      <td>7861</td>\n",
       "      <td>38</td>\n",
       "      <td>False</td>\n",
       "      <td>263</td>\n",
       "      <td>1.1</td>\n",
       "      <td>136</td>\n",
       "      <td>1</td>\n",
       "      <td>True</td>\n",
       "    </tr>\n",
       "    <tr>\n",
       "      <th>60</th>\n",
       "      <td>45</td>\n",
       "      <td>False</td>\n",
       "      <td>7702</td>\n",
       "      <td>25</td>\n",
       "      <td>True</td>\n",
       "      <td>390</td>\n",
       "      <td>1.0</td>\n",
       "      <td>139</td>\n",
       "      <td>9</td>\n",
       "      <td>True</td>\n",
       "    </tr>\n",
       "  </tbody>\n",
       "</table>\n",
       "</div>"
      ],
      "text/plain": [
       "    age  anaemia  creatinine_phosphokinase  ejection_fraction  \\\n",
       "1    55    False                      7861                 38   \n",
       "60   45    False                      7702                 25   \n",
       "\n",
       "    high_blood_pressure  platelets  serum_creatinine  serum_sodium  time  \\\n",
       "1                 False        263               1.1           136     1   \n",
       "60                 True        390               1.0           139     9   \n",
       "\n",
       "    DEATH_EVENT  \n",
       "1          True  \n",
       "60         True  "
      ]
     },
     "execution_count": 27,
     "metadata": {},
     "output_type": "execute_result"
    }
   ],
   "source": [
    "data[data.creatinine_phosphokinase > 7000]"
   ]
  },
  {
   "cell_type": "markdown",
   "metadata": {},
   "source": [
    "## Check imbalanced data"
   ]
  },
  {
   "cell_type": "markdown",
   "metadata": {},
   "source": [
    "By looking at the data, it is clear that the data is very imbalanced, only third of the patients have actually died. In this classification problem we will care more about recall than precision, because predicting a \"no death event\" for a patient who eventually will die would be very unfortunate. Hence we would like to decrease the number of FN = high recall."
   ]
  },
  {
   "cell_type": "code",
   "execution_count": 28,
   "metadata": {},
   "outputs": [
    {
     "data": {
      "text/plain": [
       "Text(0.5, 1.0, 'Death event distribution')"
      ]
     },
     "execution_count": 28,
     "metadata": {},
     "output_type": "execute_result"
    },
    {
     "data": {
      "image/png": "[encoded data removed]",
      "text/plain": [
       "<Figure size 432x288 with 1 Axes>"
      ]
     },
     "metadata": {
      "needs_background": "light"
     },
     "output_type": "display_data"
    }
   ],
   "source": [
    "sns.countplot(data.DEATH_EVENT).set_title(\"Death event distribution\")"
   ]
  },
  {
   "cell_type": "markdown",
   "metadata": {},
   "source": [
    "# Data Visualizaitons"
   ]
  },
  {
   "cell_type": "markdown",
   "metadata": {},
   "source": [
    "First we can notice than the patients with high blood pressure and anaemia may infer that a death event can occur:"
   ]
  },
  {
   "cell_type": "code",
   "execution_count": 29,
   "metadata": {},
   "outputs": [
    {
     "data": {
      "text/plain": [
       "<AxesSubplot:xlabel='high_blood_pressure', ylabel='DEATH_EVENT'>"
      ]
     },
     "execution_count": 29,
     "metadata": {},
     "output_type": "execute_result"
    },
    {
     "data": {
      "image/png": "[encoded data removed]",
      "text/plain": [
       "<Figure size 432x288 with 1 Axes>"
      ]
     },
     "metadata": {
      "needs_background": "light"
     },
     "output_type": "display_data"
    }
   ],
   "source": [
    "sns.barplot(x='high_blood_pressure',y='DEATH_EVENT',data=data)"
   ]
  },
  {
   "cell_type": "code",
   "execution_count": 30,
   "metadata": {},
   "outputs": [
    {
     "data": {
      "text/plain": [
       "<AxesSubplot:xlabel='anaemia', ylabel='DEATH_EVENT'>"
      ]
     },
     "execution_count": 30,
     "metadata": {},
     "output_type": "execute_result"
    },
    {
     "data": {
      "image/png": "[encoded data removed]",
      "text/plain": [
       "<Figure size 432x288 with 1 Axes>"
      ]
     },
     "metadata": {
      "needs_background": "light"
     },
     "output_type": "display_data"
    }
   ],
   "source": [
    "sns.barplot(x='anaemia',y='DEATH_EVENT',data=data)"
   ]
  },
  {
   "cell_type": "markdown",
   "metadata": {},
   "source": [
    "Patients that didn't survive the heart failure tended to attend medical examinations more frequently than patients who did survived."
   ]
  },
  {
   "cell_type": "code",
   "execution_count": 31,
   "metadata": {},
   "outputs": [
    {
     "data": {
      "text/plain": [
       "<seaborn.axisgrid.FacetGrid at 0x1e475eedbe0>"
      ]
     },
     "execution_count": 31,
     "metadata": {},
     "output_type": "execute_result"
    },
    {
     "data": {
      "image/png": "[encoded data removed]",
      "text/plain": [
       "<Figure size 360x360 with 1 Axes>"
      ]
     },
     "metadata": {
      "needs_background": "light"
     },
     "output_type": "display_data"
    }
   ],
   "source": [
    "sns.catplot(x=\"DEATH_EVENT\", y=\"time\", data=data)"
   ]
  },
  {
   "cell_type": "markdown",
   "metadata": {},
   "source": [
    "# Classification using Random Forest model"
   ]
  },
  {
   "cell_type": "markdown",
   "metadata": {},
   "source": [
    "Because the dataset is not large enough KFold would be a good choice 0 it would allow the model to train on enough examples and would provide food evaluation for the model's performance."
   ]
  },
  {
   "cell_type": "code",
   "execution_count": 32,
   "metadata": {},
   "outputs": [],
   "source": [
    "from sklearn.model_selection import RepeatedKFold\n",
    "\n",
    "data.reset_index(drop=True, inplace=True)\n",
    "features = [x for x in data.columns if x!='DEATH_EVENT']\n",
    "X = pd.get_dummies(data[features])\n",
    "y = data.DEATH_EVENT\n",
    "\n",
    "rkf = RepeatedKFold(n_splits=5, random_state=12345)\n",
    "train_index, test_index = list(rkf.split(X, y))[0]\n",
    "train, test = X.iloc[train_index], X.iloc[test_index]\n",
    "y_train, y_test = y[train_index], y[test_index]"
   ]
  },
  {
   "cell_type": "markdown",
   "metadata": {},
   "source": [
    "I will use the Random Forest model, adjusting its parameters using GridSearchCV: "
   ]
  },
  {
   "cell_type": "code",
   "execution_count": 33,
   "metadata": {},
   "outputs": [],
   "source": [
    "from sklearn.metrics import classification_report, roc_curve\n",
    "\n",
    "def find_best_threshold(thresholds, fpr, tpr):\n",
    "    \"\"\"\n",
    "    find the best threshold from the roc curve.\n",
    "    \"\"\"\n",
    "    fpr_tpr = pd.DataFrame({'thresholds': thresholds, 'fpr': fpr, 'tpr': tpr})\n",
    "    fpr_tpr['dist'] = (fpr_tpr['fpr'])**2 + (fpr_tpr['tpr']-1)**2\n",
    "    return fpr_tpr.loc[fpr_tpr.dist.argmin(), 'thresholds']\n",
    "\n",
    "\n",
    "def get_model_results(model, train, test, y_train, y_test):\n",
    "    \"\"\"\n",
    "    Get the results by printing ROC curve and other metrics.\n",
    "    \"\"\"\n",
    "    probabilities = model.predict_proba(test)[:,1]\n",
    "    fpr, tpr, thresholds = roc_curve(y_test, probabilities)\n",
    "    threshold = find_best_threshold(thresholds, fpr, tpr)\n",
    "    predictions = probabilities > threshold\n",
    "    \n",
    "    plt.figure()\n",
    "    plt.plot(fpr, tpr, label='test')\n",
    "    probabilities = model.predict_proba(train)[:,1]\n",
    "    fpr, tpr, thresholds = roc_curve(y_train, probabilities)\n",
    "    plt.plot(fpr, tpr, label='train')\n",
    "    plt.plot([0, 1], [0, 1], 'r--', label='random guess')\n",
    "    print(classification_report(y_test, predictions))\n",
    "    plt.legend()"
   ]
  },
  {
   "cell_type": "code",
   "execution_count": 39,
   "metadata": {},
   "outputs": [
    {
     "name": "stdout",
     "output_type": "stream",
     "text": [
      "              precision    recall  f1-score   support\n",
      "\n",
      "       False       0.94      0.81      0.87        37\n",
      "        True       0.74      0.91      0.82        22\n",
      "\n",
      "    accuracy                           0.85        59\n",
      "   macro avg       0.84      0.86      0.84        59\n",
      "weighted avg       0.86      0.85      0.85        59\n",
      "\n"
     ]
    },
    {
     "data": {
      "image/png": "[encoded data removed]",
      "text/plain": [
       "<Figure size 432x288 with 1 Axes>"
      ]
     },
     "metadata": {
      "needs_background": "light"
     },
     "output_type": "display_data"
    }
   ],
   "source": [
    "from sklearn.ensemble import RandomForestClassifier\n",
    "from sklearn.preprocessing import StandardScaler\n",
    "from sklearn.pipeline import make_pipeline\n",
    "\n",
    "pipeline = make_pipeline(StandardScaler(), RandomForestClassifier(n_estimators=150, min_samples_split=10, min_samples_leaf=5, max_depth=10, bootstrap=False))\n",
    "pipeline.fit(train, y_train)\n",
    "get_model_results(pipeline, train, test, y_train, y_test)"
   ]
  }
 ],
 "metadata": {
  "kernelspec": {
   "display_name": "Python 3",
   "language": "python",
   "name": "python3"
  },
  "language_info": {
   "codemirror_mode": {
    "name": "ipython",
    "version": 3
   },
   "file_extension": ".py",
   "mimetype": "text/x-python",
   "name": "python",
   "nbconvert_exporter": "python",
   "pygments_lexer": "ipython3",
   "version": "3.9.0"
  },
  "toc-autonumbering": true,
  "toc-showcode": false,
  "toc-showmarkdowntxt": false,
  "toc-showtags": false
 },
 "nbformat": 4,
 "nbformat_minor": 4
}
